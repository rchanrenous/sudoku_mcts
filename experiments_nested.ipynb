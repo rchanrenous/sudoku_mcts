{
 "cells": [
  {
   "cell_type": "code",
   "execution_count": null,
   "metadata": {
    "colab": {
     "base_uri": "https://localhost:8080/",
     "height": 342
    },
    "id": "U6VFqkMP1fn_",
    "outputId": "c591b968-9b70-49df-c776-1feedda74b90"
   },
   "outputs": [],
   "source": [
    "import numpy as np\n",
    "import random\n",
    "from math import sqrt\n",
    "import math\n",
    "import copy\n",
    "import collections\n",
    "import time\n",
    "import multiprocessing as mp\n",
    "\n",
    "from mcts_sudoku import *"
   ]
  },
  {
   "cell_type": "markdown",
   "metadata": {},
   "source": [
    "## rm_rate = 0.5"
   ]
  },
  {
   "cell_type": "code",
   "execution_count": null,
   "metadata": {
    "id": "iXdKu7Bg2AMu"
   },
   "outputs": [],
   "source": [
    "time_budget = 3*60 # in seconds\n",
    "number_pbs = 50\n",
    "size = 16\n",
    "rm_rate = 0.5\n",
    "level = 1\n",
    "\n",
    "# test nested\n",
    "n11, t11 = test_nested(time_budget, number_pbs, size, rm_rate, level, playout, play_dict, random_priority)\n",
    "n12, t12 = test_nested(time_budget, number_pbs, size, rm_rate, level, playout_max_inference, play_max_inference, random_cells)\n",
    "n13, t13 = test_nested(time_budget, number_pbs, size, rm_rate, level, playout, play, random_cells)\n",
    "n14, t14 = test_nested(time_budget, number_pbs, size, rm_rate, level, playout_max_inference, play_max_inference, random_values)\n",
    "n15, t15 = test_nested(time_budget, number_pbs, size, rm_rate, level, playout, play, random_values)"
   ]
  },
  {
   "cell_type": "code",
   "execution_count": null,
   "metadata": {
    "scrolled": true
   },
   "outputs": [],
   "source": [
    "print(n11,t11)\n",
    "print(n12,t12)\n",
    "print(n13,t13)\n",
    "print(n14,t14)\n",
    "print(n15,t15)"
   ]
  },
  {
   "cell_type": "code",
   "execution_count": null,
   "metadata": {},
   "outputs": [],
   "source": [
    "time_budget = 3*60 # in seconds\n",
    "number_pbs = 50\n",
    "size = 16\n",
    "rm_rate = 0.5\n",
    "level = 2\n",
    "\n",
    "# test nested\n",
    "n21, t21 = test_nested(time_budget, number_pbs, size, rm_rate, level, playout, play_dict, random_priority)\n",
    "n22, t22 = test_nested(time_budget, number_pbs, size, rm_rate, level, playout_max_inference, play_max_inference, random_cells)\n",
    "n23, t23 = test_nested(time_budget, number_pbs, size, rm_rate, level, playout, play, random_cells)\n",
    "n24, t24 = test_nested(time_budget, number_pbs, size, rm_rate, level, playout_max_inference, play_max_inference, random_values)\n",
    "n25, t25 = test_nested(time_budget, number_pbs, size, rm_rate, level, playout, play, random_values)"
   ]
  },
  {
   "cell_type": "code",
   "execution_count": null,
   "metadata": {},
   "outputs": [],
   "source": [
    "print(n21,t21)\n",
    "print(n22,t22)\n",
    "print(n23,t23)\n",
    "print(n24,t24)\n",
    "print(n25,t25)"
   ]
  },
  {
   "cell_type": "code",
   "execution_count": null,
   "metadata": {},
   "outputs": [],
   "source": [
    "time_budget = 3*60 # in seconds\n",
    "number_pbs = 50\n",
    "size = 16\n",
    "rm_rate = 0.5\n",
    "level = 3\n",
    "\n",
    "# test nested\n",
    "n31, t31 = test_nested(time_budget, number_pbs, size, rm_rate, level, playout, play_dict, random_priority)\n",
    "n32, t32 = test_nested(time_budget, number_pbs, size, rm_rate, level, playout_max_inference, play_max_inference, random_cells)\n",
    "n33, t33 = test_nested(time_budget, number_pbs, size, rm_rate, level, playout, play, random_cells)\n",
    "n34, t34 = test_nested(time_budget, number_pbs, size, rm_rate, level, playout_max_inference, play_max_inference, random_values)\n",
    "n35, t35 = test_nested(time_budget, number_pbs, size, rm_rate, level, playout, play, random_values)"
   ]
  },
  {
   "cell_type": "code",
   "execution_count": null,
   "metadata": {},
   "outputs": [],
   "source": [
    "print(n31,t31)\n",
    "print(n32,t32)\n",
    "print(n33,t33)\n",
    "print(n34,t34)\n",
    "print(n35,t35)"
   ]
  },
  {
   "cell_type": "markdown",
   "metadata": {},
   "source": [
    "## rm_rate = 2/3"
   ]
  },
  {
   "cell_type": "code",
   "execution_count": 8,
   "metadata": {},
   "outputs": [
    {
     "name": "stdout",
     "output_type": "stream",
     "text": [
      "Problem: 0, solved: 0, time:15.017164707183838\n",
      "Problem: 1, solved: 0, time:15.015578508377075\n",
      "Problem: 2, solved: 0, time:15.014206171035767\n",
      "Problem: 3, solved: 1, time:3.3344223499298096\n",
      "Problem: 4, solved: 0, time:15.015609502792358\n",
      "Problem: 5, solved: 1, time:1.1770923137664795\n",
      "Problem: 6, solved: 1, time:2.590914726257324\n",
      "Problem: 7, solved: 0, time:15.015950679779053\n",
      "Problem: 8, solved: 0, time:15.015971660614014\n",
      "Problem: 9, solved: 1, time:13.650459289550781\n",
      "Solved: 4 time: 110.94687533378601 \n",
      "\n",
      "\n"
     ]
    }
   ],
   "source": [
    "time_budget = 3*60 # in seconds\n",
    "number_pbs = 50\n",
    "size = 16\n",
    "rm_rate = 2/3\n",
    "level = 1\n",
    "\n",
    "# test nested\n",
    "n41, t41 = test_nested(time_budget, number_pbs, size, rm_rate, level, playout, play_dict, random_priority)\n",
    "n42, t42 = test_nested(time_budget, number_pbs, size, rm_rate, level, playout_max_inference, play_max_inference, random_cells)\n",
    "n43, t43 = test_nested(time_budget, number_pbs, size, rm_rate, level, playout, play, random_cells)\n",
    "n44, t44 = test_nested(time_budget, number_pbs, size, rm_rate, level, playout_max_inference, play_max_inference, random_values)\n",
    "n45, t45 = test_nested(time_budget, number_pbs, size, rm_rate, level, playout, play, random_values)"
   ]
  },
  {
   "cell_type": "code",
   "execution_count": null,
   "metadata": {},
   "outputs": [],
   "source": [
    "print(n41,t41)\n",
    "print(n42,t42)\n",
    "print(n43,t43)\n",
    "print(n44,t44)\n",
    "print(n45,t45)"
   ]
  },
  {
   "cell_type": "code",
   "execution_count": null,
   "metadata": {},
   "outputs": [],
   "source": [
    "time_budget = 3*60 # in seconds\n",
    "number_pbs = 50\n",
    "size = 16\n",
    "rm_rate = 2/3\n",
    "level = 2\n",
    "\n",
    "# test nested\n",
    "n51, t51 = test_nested(time_budget, number_pbs, size, rm_rate, level, playout, play_dict, random_priority)\n",
    "n52, t52 = test_nested(time_budget, number_pbs, size, rm_rate, level, playout_max_inference, play_max_inference, random_cells)\n",
    "n53, t53 = test_nested(time_budget, number_pbs, size, rm_rate, level, playout, play, random_cells)\n",
    "n54, t54 = test_nested(time_budget, number_pbs, size, rm_rate, level, playout_max_inference, play_max_inference, random_values)\n",
    "n55, t55 = test_nested(time_budget, number_pbs, size, rm_rate, level, playout, play, random_values)"
   ]
  },
  {
   "cell_type": "code",
   "execution_count": null,
   "metadata": {},
   "outputs": [],
   "source": [
    "print(n51,t51)\n",
    "print(n52,t52)\n",
    "print(n53,t53)\n",
    "print(n54,t54)\n",
    "print(n55,t55)"
   ]
  },
  {
   "cell_type": "code",
   "execution_count": null,
   "metadata": {},
   "outputs": [],
   "source": [
    "time_budget = 3*60 # in seconds\n",
    "number_pbs = 50\n",
    "size = 16\n",
    "rm_rate = 2/3\n",
    "level = 3\n",
    "\n",
    "# test nested\n",
    "n61, t61 = test_nested(time_budget, number_pbs, size, rm_rate, level, playout, play_dict, random_priority)\n",
    "n62, t62 = test_nested(time_budget, number_pbs, size, rm_rate, level, playout_max_inference, play_max_inference, random_cells)\n",
    "n63, t63 = test_nested(time_budget, number_pbs, size, rm_rate, level, playout, play, random_cells)\n",
    "n64, t64 = test_nested(time_budget, number_pbs, size, rm_rate, level, playout_max_inference, play_max_inference, random_values)\n",
    "n65, t65 = test_nested(time_budget, number_pbs, size, rm_rate, level, playout, play, random_values)"
   ]
  },
  {
   "cell_type": "code",
   "execution_count": null,
   "metadata": {},
   "outputs": [],
   "source": [
    "print(n61,t61)\n",
    "print(n62,t62)\n",
    "print(n63,t63)\n",
    "print(n64,t64)\n",
    "print(n65,t65)"
   ]
  }
 ],
 "metadata": {
  "colab": {
   "name": "experiments.ipynb",
   "provenance": []
  },
  "kernelspec": {
   "display_name": "Python 3 (ipykernel)",
   "language": "python",
   "name": "python3"
  },
  "language_info": {
   "codemirror_mode": {
    "name": "ipython",
    "version": 3
   },
   "file_extension": ".py",
   "mimetype": "text/x-python",
   "name": "python",
   "nbconvert_exporter": "python",
   "pygments_lexer": "ipython3",
   "version": "3.10.4"
  }
 },
 "nbformat": 4,
 "nbformat_minor": 1
}
