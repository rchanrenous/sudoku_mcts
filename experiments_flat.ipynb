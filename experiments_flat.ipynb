{
 "cells": [
  {
   "cell_type": "code",
   "execution_count": null,
   "metadata": {
    "colab": {
     "base_uri": "https://localhost:8080/",
     "height": 342
    },
    "id": "U6VFqkMP1fn_",
    "outputId": "c591b968-9b70-49df-c776-1feedda74b90"
   },
   "outputs": [],
   "source": [
    "import numpy as np\n",
    "import random\n",
    "from math import sqrt\n",
    "import math\n",
    "import copy\n",
    "import collections\n",
    "import time\n",
    "import multiprocessing as mp\n",
    "\n",
    "from mcts_sudoku import *"
   ]
  },
  {
   "cell_type": "markdown",
   "metadata": {},
   "source": [
    "## rm_rate = 0.5"
   ]
  },
  {
   "cell_type": "code",
   "execution_count": null,
   "metadata": {
    "id": "iXdKu7Bg2AMu"
   },
   "outputs": [],
   "source": [
    "time_budget = 10*60 # in seconds\n",
    "number_pbs = 20\n",
    "size = 16\n",
    "rm_rate = 0.5\n",
    "n_playouts = 5\n",
    "\n",
    "# test flat\n",
    "n11, t11 = mc_test(time_budget, number_pbs, size, rm_rate, flat_max_inference, playout_max_inference, play_max_inference, random_cells, n_playouts)\n",
    "n12, t12 = mc_test(time_budget, number_pbs, size, rm_rate, flat, playout, play, random_cells, n_playouts)\n",
    "n13, t13 = mc_test(time_budget, number_pbs, size, rm_rate, flat_max_inference, playout_max_inference, play_max_inference, random_values, n_playouts)\n",
    "n14, t14 = mc_test(time_budget, number_pbs, size, rm_rate, flat, playout, play, random_values, n_playouts)"
   ]
  },
  {
   "cell_type": "code",
   "execution_count": null,
   "metadata": {
    "scrolled": true
   },
   "outputs": [],
   "source": [
    "print(n11,t11)\n",
    "print(n12,t12)\n",
    "print(n13,t13)\n",
    "print(n14,t14)"
   ]
  },
  {
   "cell_type": "code",
   "execution_count": null,
   "metadata": {},
   "outputs": [],
   "source": [
    "time_budget = 10*60 # in seconds\n",
    "number_pbs = 20\n",
    "size = 16\n",
    "rm_rate = 0.5\n",
    "n_playouts = 10\n",
    "\n",
    "# test flat\n",
    "n21, t21 = mc_test(time_budget, number_pbs, size, rm_rate, flat_max_inference, playout_max_inference, play_max_inference, random_cells, n_playouts)\n",
    "n22, t22 = mc_test(time_budget, number_pbs, size, rm_rate, flat, playout, play, random_cells, n_playouts)\n",
    "n23, t23 = mc_test(time_budget, number_pbs, size, rm_rate, flat_max_inference, playout_max_inference, play_max_inference, random_values, n_playouts)\n",
    "n24, t24 = mc_test(time_budget, number_pbs, size, rm_rate, flat, playout, play, random_values, n_playouts)"
   ]
  },
  {
   "cell_type": "code",
   "execution_count": null,
   "metadata": {},
   "outputs": [],
   "source": [
    "print(n21,t21)\n",
    "print(n22,t22)\n",
    "print(n23,t23)\n",
    "print(n24,t24)"
   ]
  },
  {
   "cell_type": "code",
   "execution_count": null,
   "metadata": {},
   "outputs": [],
   "source": [
    "time_budget = 10*60 # in seconds\n",
    "number_pbs = 20\n",
    "size = 16\n",
    "rm_rate = 0.5\n",
    "n_playouts = 15\n",
    "\n",
    "# test flat\n",
    "n31, t31 = mc_test(time_budget, number_pbs, size, rm_rate, flat_max_inference, playout_max_inference, play_max_inference, random_cells, n_playouts)\n",
    "n32, t32 = mc_test(time_budget, number_pbs, size, rm_rate, flat, playout, play, random_cells, n_playouts)\n",
    "n33, t33 = mc_test(time_budget, number_pbs, size, rm_rate, flat_max_inference, playout_max_inference, play_max_inference, random_values, n_playouts)\n",
    "n34, t34 = mc_test(time_budget, number_pbs, size, rm_rate, flat, playout, play, random_values, n_playouts)"
   ]
  },
  {
   "cell_type": "code",
   "execution_count": null,
   "metadata": {},
   "outputs": [],
   "source": [
    "print(n31,t31)\n",
    "print(n32,t32)\n",
    "print(n33,t33)\n",
    "print(n34,t34)"
   ]
  },
  {
   "cell_type": "code",
   "execution_count": null,
   "metadata": {},
   "outputs": [],
   "source": [
    "time_budget = 10*60 # in seconds\n",
    "number_pbs = 20\n",
    "size = 16\n",
    "rm_rate = 0.5\n",
    "n_playouts = 20\n",
    "\n",
    "# test flat\n",
    "n41, t41 = mc_test(time_budget, number_pbs, size, rm_rate, flat_max_inference, playout_max_inference, play_max_inference, random_cells, n_playouts)\n",
    "n42, t42 = mc_test(time_budget, number_pbs, size, rm_rate, flat, playout, play, random_cells, n_playouts)\n",
    "n43, t43 = mc_test(time_budget, number_pbs, size, rm_rate, flat_max_inference, playout_max_inference, play_max_inference, random_values, n_playouts)\n",
    "n44, t44 = mc_test(time_budget, number_pbs, size, rm_rate, flat, playout, play, random_values, n_playouts)"
   ]
  },
  {
   "cell_type": "code",
   "execution_count": null,
   "metadata": {},
   "outputs": [],
   "source": [
    "print(n41,t41)\n",
    "print(n42,t42)\n",
    "print(n43,t43)\n",
    "print(n44,t44)"
   ]
  },
  {
   "cell_type": "markdown",
   "metadata": {},
   "source": [
    "## rm_rate = 2/3"
   ]
  },
  {
   "cell_type": "code",
   "execution_count": null,
   "metadata": {},
   "outputs": [],
   "source": [
    "time_budget = 10*60 # in seconds\n",
    "number_pbs = 20\n",
    "size = 16\n",
    "rm_rate = 2/3\n",
    "n_playouts = 5\n",
    "\n",
    "# test flat\n",
    "n51, t51 = mc_test(time_budget, number_pbs, size, rm_rate, flat_max_inference, playout_max_inference, play_max_inference, random_cells, n_playouts)\n",
    "n52, t52 = mc_test(time_budget, number_pbs, size, rm_rate, flat, playout, play, random_cells, n_playouts)\n",
    "n53, t53 = mc_test(time_budget, number_pbs, size, rm_rate, flat_max_inference, playout_max_inference, play_max_inference, random_values, n_playouts)\n",
    "n54, t54 = mc_test(time_budget, number_pbs, size, rm_rate, flat, playout, play, random_values, n_playouts)"
   ]
  },
  {
   "cell_type": "code",
   "execution_count": null,
   "metadata": {},
   "outputs": [],
   "source": [
    "print(n51,t51)\n",
    "print(n52,t52)\n",
    "print(n53,t53)\n",
    "print(n54,t54)"
   ]
  },
  {
   "cell_type": "code",
   "execution_count": null,
   "metadata": {},
   "outputs": [],
   "source": [
    "time_budget = 10*60 # in seconds\n",
    "number_pbs = 20\n",
    "size = 16\n",
    "rm_rate = 2/3\n",
    "n_playouts = 10\n",
    "\n",
    "# test flat\n",
    "n61, t61 = mc_test(time_budget, number_pbs, size, rm_rate, flat_max_inference, playout_max_inference, play_max_inference, random_cells, n_playouts)\n",
    "n62, t62 = mc_test(time_budget, number_pbs, size, rm_rate, flat, playout, play, random_cells, n_playouts)\n",
    "n63, t63 = mc_test(time_budget, number_pbs, size, rm_rate, flat_max_inference, playout_max_inference, play_max_inference, random_values, n_playouts)\n",
    "n64, t64 = mc_test(time_budget, number_pbs, size, rm_rate, flat, playout, play, random_values, n_playouts)"
   ]
  },
  {
   "cell_type": "code",
   "execution_count": null,
   "metadata": {},
   "outputs": [],
   "source": [
    "print(n61,t61)\n",
    "print(n62,t62)\n",
    "print(n63,t63)\n",
    "print(n64,t64)"
   ]
  },
  {
   "cell_type": "code",
   "execution_count": null,
   "metadata": {},
   "outputs": [],
   "source": [
    "time_budget = 10*60 # in seconds\n",
    "number_pbs = 20\n",
    "size = 16\n",
    "rm_rate = 2/3\n",
    "n_playouts = 15\n",
    "\n",
    "# test flat\n",
    "n71, t71 = mc_test(time_budget, number_pbs, size, rm_rate, flat_max_inference, playout_max_inference, play_max_inference, random_cells, n_playouts)\n",
    "n72, t72 = mc_test(time_budget, number_pbs, size, rm_rate, flat, playout, play, random_cells, n_playouts)\n",
    "n73, t73 = mc_test(time_budget, number_pbs, size, rm_rate, flat_max_inference, playout_max_inference, play_max_inference, random_values, n_playouts)\n",
    "n74, t74 = mc_test(time_budget, number_pbs, size, rm_rate, flat, playout, play, random_values, n_playouts)"
   ]
  },
  {
   "cell_type": "code",
   "execution_count": null,
   "metadata": {},
   "outputs": [],
   "source": [
    "print(n71,t71)\n",
    "print(n72,t72)\n",
    "print(n73,t73)\n",
    "print(n74,t74)"
   ]
  },
  {
   "cell_type": "code",
   "execution_count": null,
   "metadata": {},
   "outputs": [],
   "source": [
    "time_budget = 10*60 # in seconds\n",
    "number_pbs = 20\n",
    "size = 16\n",
    "rm_rate = 2/3\n",
    "n_playouts = 20\n",
    "\n",
    "# test flat\n",
    "n81, t81 = mc_test(time_budget, number_pbs, size, rm_rate, flat_max_inference, playout_max_inference, play_max_inference, random_cells, n_playouts)\n",
    "n82, t82 = mc_test(time_budget, number_pbs, size, rm_rate, flat, playout, play, random_cells, n_playouts)\n",
    "n83, t83 = mc_test(time_budget, number_pbs, size, rm_rate, flat_max_inference, playout_max_inference, play_max_inference, random_values, n_playouts)\n",
    "n84, t84 = mc_test(time_budget, number_pbs, size, rm_rate, flat, playout, play, random_values, n_playouts)"
   ]
  },
  {
   "cell_type": "code",
   "execution_count": null,
   "metadata": {},
   "outputs": [],
   "source": [
    "print(n81,t81)\n",
    "print(n82,t82)\n",
    "print(n83,t83)\n",
    "print(n84,t84)"
   ]
  }
 ],
 "metadata": {
  "colab": {
   "name": "experiments.ipynb",
   "provenance": []
  },
  "kernelspec": {
   "display_name": "Python 3 (ipykernel)",
   "language": "python",
   "name": "python3"
  },
  "language_info": {
   "codemirror_mode": {
    "name": "ipython",
    "version": 3
   },
   "file_extension": ".py",
   "mimetype": "text/x-python",
   "name": "python",
   "nbconvert_exporter": "python",
   "pygments_lexer": "ipython3",
   "version": "3.10.4"
  }
 },
 "nbformat": 4,
 "nbformat_minor": 1
}
