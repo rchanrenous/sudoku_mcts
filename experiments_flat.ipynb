{
 "cells": [
  {
   "cell_type": "code",
   "execution_count": 1,
   "metadata": {
    "colab": {
     "base_uri": "https://localhost:8080/",
     "height": 342
    },
    "id": "U6VFqkMP1fn_",
    "outputId": "c591b968-9b70-49df-c776-1feedda74b90"
   },
   "outputs": [],
   "source": [
    "import numpy as np\n",
    "import random\n",
    "from math import sqrt\n",
    "import math\n",
    "import copy\n",
    "import collections\n",
    "import time\n",
    "import multiprocessing as mp\n",
    "\n",
    "from mcts_sudoku import *"
   ]
  },
  {
   "cell_type": "markdown",
   "metadata": {},
   "source": [
    "## rm_rate = 0.5"
   ]
  },
  {
   "cell_type": "code",
   "execution_count": 2,
   "metadata": {
    "id": "iXdKu7Bg2AMu"
   },
   "outputs": [
    {
     "name": "stdout",
     "output_type": "stream",
     "text": [
      "Problem: 0, solved: 0, time:1.0016672611236572\n",
      "Problem: 1, solved: 1, time:0.5292308330535889\n",
      "Problem: 2, solved: 0, time:1.001966953277588\n",
      "Problem: 3, solved: 1, time:0.4463024139404297\n",
      "Problem: 4, solved: 0, time:1.0018014907836914\n",
      "Problem: 5, solved: 0, time:1.0021302700042725\n",
      "Problem: 6, solved: 0, time:1.0020461082458496\n",
      "Problem: 7, solved: 1, time:0.2084944248199463\n",
      "Problem: 8, solved: 0, time:1.0021076202392578\n",
      "Problem: 9, solved: 1, time:0.0903770923614502\n",
      "Problem: 10, solved: 0, time:1.0017287731170654\n",
      "Problem: 11, solved: 0, time:1.001699447631836\n",
      "Problem: 12, solved: 1, time:0.10051941871643066\n",
      "Problem: 13, solved: 0, time:1.0015547275543213\n",
      "Problem: 14, solved: 0, time:1.0016956329345703\n",
      "Problem: 15, solved: 0, time:1.0016345977783203\n",
      "Problem: 16, solved: 0, time:1.0025012493133545\n",
      "Problem: 17, solved: 1, time:0.683452844619751\n",
      "Problem: 18, solved: 0, time:1.002143383026123\n",
      "Problem: 19, solved: 0, time:1.0018243789672852\n",
      "Solved: 6 time: 16.25855255126953 \n",
      "\n",
      "\n",
      "Problem: 0, solved: 0, time:1.0017125606536865\n",
      "Problem: 1, solved: 0, time:1.0018103122711182\n",
      "Problem: 2, solved: 0, time:1.0019896030426025\n",
      "Problem: 3, solved: 0, time:1.0021309852600098\n",
      "Problem: 4, solved: 0, time:1.0019094944000244\n",
      "Problem: 5, solved: 0, time:1.001190423965454\n",
      "Problem: 6, solved: 0, time:1.002490758895874\n",
      "Problem: 7, solved: 0, time:1.0020627975463867\n",
      "Problem: 8, solved: 0, time:1.002197027206421\n",
      "Problem: 9, solved: 0, time:1.0010099411010742\n",
      "Problem: 10, solved: 0, time:1.001267671585083\n",
      "Problem: 11, solved: 0, time:1.002420425415039\n",
      "Problem: 12, solved: 0, time:1.0021183490753174\n",
      "Problem: 13, solved: 0, time:1.002000093460083\n",
      "Problem: 14, solved: 0, time:1.00201416015625\n",
      "Problem: 15, solved: 0, time:1.0020864009857178\n",
      "Problem: 16, solved: 0, time:1.002150535583496\n",
      "Problem: 17, solved: 0, time:1.0022754669189453\n",
      "Problem: 18, solved: 0, time:1.002504825592041\n",
      "Problem: 19, solved: 0, time:1.002258062362671\n",
      "Solved: 0 time: 20.217897415161133 \n",
      "\n",
      "\n",
      "Problem: 0, solved: 1, time:0.16699981689453125\n",
      "Problem: 1, solved: 0, time:1.002124309539795\n",
      "Problem: 2, solved: 0, time:1.002213716506958\n",
      "Problem: 3, solved: 0, time:1.0022809505462646\n",
      "Problem: 4, solved: 0, time:1.0017805099487305\n",
      "Problem: 5, solved: 0, time:1.002206802368164\n",
      "Problem: 6, solved: 0, time:1.001708984375\n",
      "Problem: 7, solved: 0, time:1.0015192031860352\n",
      "Problem: 8, solved: 0, time:1.002460241317749\n",
      "Problem: 9, solved: 1, time:0.32382988929748535\n",
      "Problem: 10, solved: 0, time:1.0018970966339111\n",
      "Problem: 11, solved: 0, time:1.0018844604492188\n",
      "Problem: 12, solved: 1, time:0.0769495964050293\n",
      "Problem: 13, solved: 0, time:1.0019335746765137\n",
      "Problem: 14, solved: 0, time:1.0020029544830322\n",
      "Problem: 15, solved: 0, time:1.0022106170654297\n",
      "Problem: 16, solved: 0, time:1.0022294521331787\n",
      "Problem: 17, solved: 0, time:1.0021231174468994\n",
      "Problem: 18, solved: 1, time:0.6353189945220947\n",
      "Problem: 19, solved: 0, time:1.0012311935424805\n",
      "Solved: 4 time: 17.411643266677856 \n",
      "\n",
      "\n",
      "Problem: 0, solved: 0, time:1.0018773078918457\n",
      "Problem: 1, solved: 0, time:1.0016698837280273\n",
      "Problem: 2, solved: 0, time:1.0020837783813477\n",
      "Problem: 3, solved: 0, time:1.0022003650665283\n",
      "Problem: 4, solved: 0, time:1.0020129680633545\n",
      "Problem: 5, solved: 0, time:1.0022130012512207\n",
      "Problem: 6, solved: 0, time:1.002293586730957\n",
      "Problem: 7, solved: 0, time:1.0016863346099854\n",
      "Problem: 8, solved: 0, time:1.0020332336425781\n",
      "Problem: 9, solved: 0, time:1.0023260116577148\n",
      "Problem: 10, solved: 0, time:1.0016965866088867\n",
      "Problem: 11, solved: 0, time:1.00199556350708\n",
      "Problem: 12, solved: 0, time:1.0022339820861816\n",
      "Problem: 13, solved: 0, time:1.0020487308502197\n",
      "Problem: 14, solved: 0, time:1.0012998580932617\n",
      "Problem: 15, solved: 0, time:1.001906394958496\n",
      "Problem: 16, solved: 0, time:1.0017054080963135\n",
      "Problem: 17, solved: 0, time:1.0014474391937256\n",
      "Problem: 18, solved: 0, time:1.0017483234405518\n",
      "Problem: 19, solved: 0, time:1.0023620128631592\n",
      "Solved: 0 time: 20.24588441848755 \n",
      "\n",
      "\n"
     ]
    }
   ],
   "source": [
    "time_budget = 10*60 # in seconds\n",
    "number_pbs = 20\n",
    "size = 16\n",
    "rm_rate = 0.5\n",
    "n_playouts = 5\n",
    "\n",
    "# test flat\n",
    "n1, t1 = mc_test(time_budget, number_pbs, size, rm_rate, flat_max_inference, playout_max_inference, play_max_inference, random_cells, n_playouts)\n",
    "n2, t2 = mc_test(time_budget, number_pbs, size, rm_rate, flat, playout, play, random_cells, n_playouts)\n",
    "n3, t3 = mc_test(time_budget, number_pbs, size, rm_rate, flat_max_inference, playout_max_inference, play_max_inference, random_values, n_playouts)\n",
    "n4, t4 = mc_test(time_budget, number_pbs, size, rm_rate, flat, playout, play, random_values, n_playouts)"
   ]
  },
  {
   "cell_type": "code",
   "execution_count": 3,
   "metadata": {
    "scrolled": true
   },
   "outputs": [
    {
     "name": "stdout",
     "output_type": "stream",
     "text": [
      "6 16.25932240486145\n",
      "0 20.21803092956543\n",
      "4 17.411782026290894\n",
      "0 20.24723982810974\n"
     ]
    }
   ],
   "source": [
    "print(n1,t1)\n",
    "print(n2,t2)\n",
    "print(n3,t3)\n",
    "print(n4,t4)"
   ]
  },
  {
   "cell_type": "code",
   "execution_count": null,
   "metadata": {},
   "outputs": [],
   "source": [
    "time_budget = 10*60 # in seconds\n",
    "number_pbs = 20\n",
    "size = 16\n",
    "rm_rate = 0.5\n",
    "n_playouts = 10\n",
    "\n",
    "# test flat\n",
    "n1, t1 = mc_test(time_budget, number_pbs, size, rm_rate, flat_max_inference, playout_max_inference, play_max_inference, random_cells, n_playouts)\n",
    "n2, t2 = mc_test(time_budget, number_pbs, size, rm_rate, flat, playout, play, random_cells, n_playouts)\n",
    "n3, t3 = mc_test(time_budget, number_pbs, size, rm_rate, flat_max_inference, playout_max_inference, play_max_inference, random_values, n_playouts)\n",
    "n4, t4 = mc_test(time_budget, number_pbs, size, rm_rate, flat, playout, play, random_values, n_playouts)"
   ]
  },
  {
   "cell_type": "code",
   "execution_count": null,
   "metadata": {},
   "outputs": [],
   "source": [
    "print(n1,t1)\n",
    "print(n2,t2)\n",
    "print(n3,t3)\n",
    "print(n4,t4)"
   ]
  },
  {
   "cell_type": "code",
   "execution_count": null,
   "metadata": {},
   "outputs": [],
   "source": [
    "time_budget = 10*60 # in seconds\n",
    "number_pbs = 20\n",
    "size = 16\n",
    "rm_rate = 0.5\n",
    "n_playouts = 15\n",
    "\n",
    "# test flat\n",
    "n1, t1 = mc_test(time_budget, number_pbs, size, rm_rate, flat_max_inference, playout_max_inference, play_max_inference, random_cells, n_playouts)\n",
    "n2, t2 = mc_test(time_budget, number_pbs, size, rm_rate, flat, playout, play, random_cells, n_playouts)\n",
    "n3, t3 = mc_test(time_budget, number_pbs, size, rm_rate, flat_max_inference, playout_max_inference, play_max_inference, random_values, n_playouts)\n",
    "n4, t4 = mc_test(time_budget, number_pbs, size, rm_rate, flat, playout, play, random_values, n_playouts)"
   ]
  },
  {
   "cell_type": "code",
   "execution_count": null,
   "metadata": {},
   "outputs": [],
   "source": [
    "print(n1,t1)\n",
    "print(n2,t2)\n",
    "print(n3,t3)\n",
    "print(n4,t4)"
   ]
  },
  {
   "cell_type": "code",
   "execution_count": null,
   "metadata": {},
   "outputs": [],
   "source": [
    "time_budget = 10*60 # in seconds\n",
    "number_pbs = 20\n",
    "size = 16\n",
    "rm_rate = 0.5\n",
    "n_playouts = 20\n",
    "\n",
    "# test flat\n",
    "n1, t1 = mc_test(time_budget, number_pbs, size, rm_rate, flat_max_inference, playout_max_inference, play_max_inference, random_cells, n_playouts)\n",
    "n2, t2 = mc_test(time_budget, number_pbs, size, rm_rate, flat, playout, play, random_cells, n_playouts)\n",
    "n3, t3 = mc_test(time_budget, number_pbs, size, rm_rate, flat_max_inference, playout_max_inference, play_max_inference, random_values, n_playouts)\n",
    "n4, t4 = mc_test(time_budget, number_pbs, size, rm_rate, flat, playout, play, random_values, n_playouts)"
   ]
  },
  {
   "cell_type": "code",
   "execution_count": null,
   "metadata": {},
   "outputs": [],
   "source": [
    "print(n1,t1)\n",
    "print(n2,t2)\n",
    "print(n3,t3)\n",
    "print(n4,t4)"
   ]
  },
  {
   "cell_type": "markdown",
   "metadata": {},
   "source": [
    "## rm_rate = 2/3"
   ]
  },
  {
   "cell_type": "code",
   "execution_count": null,
   "metadata": {},
   "outputs": [],
   "source": [
    "time_budget = 10*60 # in seconds\n",
    "number_pbs = 20\n",
    "size = 16\n",
    "rm_rate = 2/3\n",
    "n_playouts = 5\n",
    "\n",
    "# test flat\n",
    "n1, t1 = mc_test(time_budget, number_pbs, size, rm_rate, flat_max_inference, playout_max_inference, play_max_inference, random_cells, n_playouts)\n",
    "n2, t2 = mc_test(time_budget, number_pbs, size, rm_rate, flat, playout, play, random_cells, n_playouts)\n",
    "n3, t3 = mc_test(time_budget, number_pbs, size, rm_rate, flat_max_inference, playout_max_inference, play_max_inference, random_values, n_playouts)\n",
    "n4, t4 = mc_test(time_budget, number_pbs, size, rm_rate, flat, playout, play, random_values, n_playouts)"
   ]
  },
  {
   "cell_type": "code",
   "execution_count": null,
   "metadata": {},
   "outputs": [],
   "source": [
    "print(n1,t1)\n",
    "print(n2,t2)\n",
    "print(n3,t3)\n",
    "print(n4,t4)"
   ]
  },
  {
   "cell_type": "code",
   "execution_count": null,
   "metadata": {},
   "outputs": [],
   "source": [
    "time_budget = 10*60 # in seconds\n",
    "number_pbs = 20\n",
    "size = 16\n",
    "rm_rate = 2/3\n",
    "n_playouts = 10\n",
    "\n",
    "# test flat\n",
    "n1, t1 = mc_test(time_budget, number_pbs, size, rm_rate, flat_max_inference, playout_max_inference, play_max_inference, random_cells, n_playouts)\n",
    "n2, t2 = mc_test(time_budget, number_pbs, size, rm_rate, flat, playout, play, random_cells, n_playouts)\n",
    "n3, t3 = mc_test(time_budget, number_pbs, size, rm_rate, flat_max_inference, playout_max_inference, play_max_inference, random_values, n_playouts)\n",
    "n4, t4 = mc_test(time_budget, number_pbs, size, rm_rate, flat, playout, play, random_values, n_playouts)"
   ]
  },
  {
   "cell_type": "code",
   "execution_count": null,
   "metadata": {},
   "outputs": [],
   "source": [
    "print(n1,t1)\n",
    "print(n2,t2)\n",
    "print(n3,t3)\n",
    "print(n4,t4)"
   ]
  },
  {
   "cell_type": "code",
   "execution_count": null,
   "metadata": {},
   "outputs": [],
   "source": [
    "time_budget = 10*60 # in seconds\n",
    "number_pbs = 20\n",
    "size = 16\n",
    "rm_rate = 2/3\n",
    "n_playouts = 15\n",
    "\n",
    "# test flat\n",
    "n1, t1 = mc_test(time_budget, number_pbs, size, rm_rate, flat_max_inference, playout_max_inference, play_max_inference, random_cells, n_playouts)\n",
    "n2, t2 = mc_test(time_budget, number_pbs, size, rm_rate, flat, playout, play, random_cells, n_playouts)\n",
    "n3, t3 = mc_test(time_budget, number_pbs, size, rm_rate, flat_max_inference, playout_max_inference, play_max_inference, random_values, n_playouts)\n",
    "n4, t4 = mc_test(time_budget, number_pbs, size, rm_rate, flat, playout, play, random_values, n_playouts)"
   ]
  },
  {
   "cell_type": "code",
   "execution_count": null,
   "metadata": {},
   "outputs": [],
   "source": [
    "print(n1,t1)\n",
    "print(n2,t2)\n",
    "print(n3,t3)\n",
    "print(n4,t4)"
   ]
  },
  {
   "cell_type": "code",
   "execution_count": null,
   "metadata": {},
   "outputs": [],
   "source": [
    "time_budget = 10*60 # in seconds\n",
    "number_pbs = 20\n",
    "size = 16\n",
    "rm_rate = 2/3\n",
    "n_playouts = 20\n",
    "\n",
    "# test flat\n",
    "n1, t1 = mc_test(time_budget, number_pbs, size, rm_rate, flat_max_inference, playout_max_inference, play_max_inference, random_cells, n_playouts)\n",
    "n2, t2 = mc_test(time_budget, number_pbs, size, rm_rate, flat, playout, play, random_cells, n_playouts)\n",
    "n3, t3 = mc_test(time_budget, number_pbs, size, rm_rate, flat_max_inference, playout_max_inference, play_max_inference, random_values, n_playouts)\n",
    "n4, t4 = mc_test(time_budget, number_pbs, size, rm_rate, flat, playout, play, random_values, n_playouts)"
   ]
  },
  {
   "cell_type": "code",
   "execution_count": null,
   "metadata": {},
   "outputs": [],
   "source": [
    "print(n1,t1)\n",
    "print(n2,t2)\n",
    "print(n3,t3)\n",
    "print(n4,t4)"
   ]
  }
 ],
 "metadata": {
  "colab": {
   "name": "experiments.ipynb",
   "provenance": []
  },
  "kernelspec": {
   "display_name": "Python 3 (ipykernel)",
   "language": "python",
   "name": "python3"
  },
  "language_info": {
   "codemirror_mode": {
    "name": "ipython",
    "version": 3
   },
   "file_extension": ".py",
   "mimetype": "text/x-python",
   "name": "python",
   "nbconvert_exporter": "python",
   "pygments_lexer": "ipython3",
   "version": "3.10.4"
  }
 },
 "nbformat": 4,
 "nbformat_minor": 1
}
