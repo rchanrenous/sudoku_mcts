{
 "cells": [
  {
   "cell_type": "code",
   "execution_count": 1,
   "metadata": {
    "colab": {
     "base_uri": "https://localhost:8080/",
     "height": 342
    },
    "id": "U6VFqkMP1fn_",
    "outputId": "c591b968-9b70-49df-c776-1feedda74b90"
   },
   "outputs": [],
   "source": [
    "import numpy as np\n",
    "import random\n",
    "from math import sqrt\n",
    "import math\n",
    "import copy\n",
    "import collections\n",
    "import time\n",
    "import multiprocessing as mp\n",
    "\n",
    "from mcts_sudoku2 import *"
   ]
  },
  {
   "cell_type": "markdown",
   "metadata": {},
   "source": [
    "## rm_rate = 0.5"
   ]
  },
  {
   "cell_type": "code",
   "execution_count": null,
   "metadata": {
    "id": "iXdKu7Bg2AMu"
   },
   "outputs": [],
   "source": [
    "time_budget = 10*60 # in seconds\n",
    "number_pbs = 15\n",
    "size = 16\n",
    "rm_rate = 0.5\n",
    "n_playouts = 5\n",
    "\n",
    "# test flat\n",
    "n11, t11 = mc_test(time_budget, number_pbs, size, rm_rate, flat_max_inference, playout_max_inference, play_max_inference, random_cells, n_playouts)\n",
    "n12, t12 = mc_test(time_budget, number_pbs, size, rm_rate, flat, playout, play, random_cells, n_playouts)\n",
    "n13, t13 = mc_test(time_budget, number_pbs, size, rm_rate, flat_max_inference, playout_max_inference, play_max_inference, random_values, n_playouts)\n",
    "n14, t14 = mc_test(time_budget, number_pbs, size, rm_rate, flat, playout, play, random_values, n_playouts)"
   ]
  },
  {
   "cell_type": "code",
   "execution_count": null,
   "metadata": {},
   "outputs": [],
   "source": [
    "time_budget = 10*60 # in seconds\n",
    "number_pbs = 15\n",
    "size = 16\n",
    "rm_rate = 0.5\n",
    "n_playouts = 5\n",
    "\n",
    "# test flat\n",
    "n15, t15 = mc_test(time_budget, number_pbs, size, rm_rate, flat, playout, play_dict, random_priority, n_playouts)"
   ]
  },
  {
   "cell_type": "code",
   "execution_count": 4,
   "metadata": {
    "scrolled": true
   },
   "outputs": [
    {
     "name": "stdout",
     "output_type": "stream",
     "text": [
      "13 1652.1437022686005\n",
      "0 9000.508488893509\n",
      "14 1773.7439830303192\n",
      "0 9000.557070732117\n"
     ]
    }
   ],
   "source": [
    "print(n11,t11)\n",
    "print(n12,t12)\n",
    "print(n13,t13)\n",
    "print(n14,t14)"
   ]
  },
  {
   "cell_type": "code",
   "execution_count": 17,
   "metadata": {},
   "outputs": [
    {
     "name": "stdout",
     "output_type": "stream",
     "text": [
      "15 3.1505134105682373\n"
     ]
    }
   ],
   "source": [
    "print(n15, t15)"
   ]
  },
  {
   "cell_type": "code",
   "execution_count": null,
   "metadata": {},
   "outputs": [],
   "source": [
    "time_budget = 10*60 # in seconds\n",
    "number_pbs = 15\n",
    "size = 16\n",
    "rm_rate = 0.5\n",
    "n_playouts = 10\n",
    "\n",
    "# test flat\n",
    "n21, t21 = mc_test(time_budget, number_pbs, size, rm_rate, flat_max_inference, playout_max_inference, play_max_inference, random_cells, n_playouts)\n",
    "n22, t22 = mc_test(time_budget, number_pbs, size, rm_rate, flat, playout, play, random_cells, n_playouts)\n",
    "n23, t23 = mc_test(time_budget, number_pbs, size, rm_rate, flat_max_inference, playout_max_inference, play_max_inference, random_values, n_playouts)\n",
    "n24, t24 = mc_test(time_budget, number_pbs, size, rm_rate, flat, playout, play, random_values, n_playouts)"
   ]
  },
  {
   "cell_type": "code",
   "execution_count": null,
   "metadata": {},
   "outputs": [],
   "source": [
    "time_budget = 10*60 # in seconds\n",
    "number_pbs = 15\n",
    "size = 16\n",
    "rm_rate = 0.5\n",
    "n_playouts = 10\n",
    "\n",
    "# test flat\n",
    "n25, t25 = mc_test(time_budget, number_pbs, size, rm_rate, flat_max_inference, playout, play_dict, random_priority, n_playouts)"
   ]
  },
  {
   "cell_type": "code",
   "execution_count": 6,
   "metadata": {},
   "outputs": [
    {
     "name": "stdout",
     "output_type": "stream",
     "text": [
      "15 727.3461043834686\n",
      "0 9000.892813205719\n",
      "15 1250.1167695522308\n",
      "0 9001.054332017899\n"
     ]
    }
   ],
   "source": [
    "print(n21,t21)\n",
    "print(n22,t22)\n",
    "print(n23,t23)\n",
    "print(n24,t24)"
   ]
  },
  {
   "cell_type": "code",
   "execution_count": 20,
   "metadata": {},
   "outputs": [
    {
     "name": "stdout",
     "output_type": "stream",
     "text": [
      "15 3.349966526031494\n"
     ]
    }
   ],
   "source": [
    "print(n25, t25)"
   ]
  },
  {
   "cell_type": "code",
   "execution_count": null,
   "metadata": {},
   "outputs": [],
   "source": [
    "time_budget = 10*60 # in seconds\n",
    "number_pbs = 15\n",
    "size = 16\n",
    "rm_rate = 0.5\n",
    "n_playouts = 15\n",
    "\n",
    "# test flat\n",
    "n31, t31 = mc_test(time_budget, number_pbs, size, rm_rate, flat_max_inference, playout_max_inference, play_max_inference, random_cells, n_playouts)\n",
    "n32, t32 = mc_test(time_budget, number_pbs, size, rm_rate, flat, playout, play, random_cells, n_playouts)\n",
    "n33, t33 = mc_test(time_budget, number_pbs, size, rm_rate, flat_max_inference, playout_max_inference, play_max_inference, random_values, n_playouts)\n",
    "n34, t34 = mc_test(time_budget, number_pbs, size, rm_rate, flat, playout, play, random_values, n_playouts)"
   ]
  },
  {
   "cell_type": "code",
   "execution_count": null,
   "metadata": {},
   "outputs": [],
   "source": [
    "time_budget = 10*60 # in seconds\n",
    "number_pbs = 15\n",
    "size = 16\n",
    "rm_rate = 0.5\n",
    "n_playouts = 15\n",
    "\n",
    "# test flat\n",
    "n35, t35 = mc_test(time_budget, number_pbs, size, rm_rate, flat_max_inference, playout, play_dict, random_priority, n_playouts)"
   ]
  },
  {
   "cell_type": "code",
   "execution_count": 12,
   "metadata": {},
   "outputs": [
    {
     "name": "stdout",
     "output_type": "stream",
     "text": [
      "14 1548.6308796405792\n",
      "0 9001.15558886528\n",
      "12 2464.995929002762\n",
      "0 9001.098446369171\n"
     ]
    }
   ],
   "source": [
    "print(n31,t31)\n",
    "print(n32,t32)\n",
    "print(n33,t33)\n",
    "print(n34,t34)"
   ]
  },
  {
   "cell_type": "code",
   "execution_count": 22,
   "metadata": {},
   "outputs": [
    {
     "name": "stdout",
     "output_type": "stream",
     "text": [
      "15 3.303983211517334\n"
     ]
    }
   ],
   "source": [
    "print(n35, t35)"
   ]
  },
  {
   "cell_type": "markdown",
   "metadata": {},
   "source": [
    "## rm_rate = 2/3"
   ]
  },
  {
   "cell_type": "code",
   "execution_count": null,
   "metadata": {},
   "outputs": [],
   "source": [
    "time_budget = 10*60 # in seconds\n",
    "number_pbs = 15\n",
    "size = 16\n",
    "rm_rate = 2/3\n",
    "n_playouts = 5\n",
    "\n",
    "# test flat\n",
    "n51, t51 = mc_test(time_budget, number_pbs, size, rm_rate, flat_max_inference, playout_max_inference, play_max_inference, random_cells, n_playouts)\n",
    "n52, t52 = mc_test(time_budget, number_pbs, size, rm_rate, flat, playout, play, random_cells, n_playouts)\n",
    "n53, t53 = mc_test(time_budget, number_pbs, size, rm_rate, flat_max_inference, playout_max_inference, play_max_inference, random_values, n_playouts)\n",
    "n54, t54 = mc_test(time_budget, number_pbs, size, rm_rate, flat, playout, play, random_values, n_playouts)"
   ]
  },
  {
   "cell_type": "code",
   "execution_count": null,
   "metadata": {},
   "outputs": [],
   "source": [
    "time_budget = 10*60 # in seconds\n",
    "number_pbs = 15\n",
    "size = 16\n",
    "rm_rate = 2/3\n",
    "n_playouts = 5\n",
    "\n",
    "# test flat\n",
    "n55, t55 = mc_test(time_budget, number_pbs, size, rm_rate, flat_max_inference, playout, play_dict, random_priority, n_playouts)"
   ]
  },
  {
   "cell_type": "code",
   "execution_count": 13,
   "metadata": {},
   "outputs": [
    {
     "name": "stdout",
     "output_type": "stream",
     "text": [
      "1 8493.078175783157\n",
      "0 9000.920634508133\n",
      "0 9000.883280038834\n",
      "0 9000.9867978096\n"
     ]
    }
   ],
   "source": [
    "print(n51,t51)\n",
    "print(n52,t52)\n",
    "print(n53,t53)\n",
    "print(n54,t54)"
   ]
  },
  {
   "cell_type": "code",
   "execution_count": 9,
   "metadata": {},
   "outputs": [
    {
     "name": "stdout",
     "output_type": "stream",
     "text": [
      "14 1849.7489304542542\n"
     ]
    }
   ],
   "source": [
    "print(n55, t55)"
   ]
  },
  {
   "cell_type": "code",
   "execution_count": null,
   "metadata": {},
   "outputs": [],
   "source": [
    "time_budget = 10*60 # in seconds\n",
    "number_pbs = 15\n",
    "size = 16\n",
    "rm_rate = 2/3\n",
    "n_playouts = 10\n",
    "\n",
    "# test flat\n",
    "n61, t61 = mc_test(time_budget, number_pbs, size, rm_rate, flat_max_inference, playout_max_inference, play_max_inference, random_cells, n_playouts)\n",
    "n62, t62 = mc_test(time_budget, number_pbs, size, rm_rate, flat, playout, play, random_cells, n_playouts)\n",
    "n63, t63 = mc_test(time_budget, number_pbs, size, rm_rate, flat_max_inference, playout_max_inference, play_max_inference, random_values, n_playouts)\n",
    "n64, t64 = mc_test(time_budget, number_pbs, size, rm_rate, flat, playout, play, random_values, n_playouts)"
   ]
  },
  {
   "cell_type": "code",
   "execution_count": null,
   "metadata": {},
   "outputs": [],
   "source": [
    "time_budget = 10*60 # in seconds\n",
    "number_pbs = 15\n",
    "size = 16\n",
    "rm_rate = 2/3\n",
    "n_playouts = 10\n",
    "\n",
    "# test flat\n",
    "n65, t65 = mc_test(time_budget, number_pbs, size, rm_rate, flat_max_inference, playout, play_dict, random_priority, n_playouts)"
   ]
  },
  {
   "cell_type": "code",
   "execution_count": 22,
   "metadata": {},
   "outputs": [
    {
     "name": "stdout",
     "output_type": "stream",
     "text": [
      "1 8513.095176935196\n",
      "0 9001.089860916138\n",
      "0 9001.609474420547\n",
      "0 9001.375310897827\n"
     ]
    }
   ],
   "source": [
    "print(n61,t61)\n",
    "print(n62,t62)\n",
    "print(n63,t63)\n",
    "print(n64,t64)"
   ]
  },
  {
   "cell_type": "code",
   "execution_count": 10,
   "metadata": {},
   "outputs": [
    {
     "name": "stdout",
     "output_type": "stream",
     "text": [
      "14 955.921142578125\n"
     ]
    }
   ],
   "source": [
    "print(n65, t65)"
   ]
  },
  {
   "cell_type": "code",
   "execution_count": null,
   "metadata": {},
   "outputs": [],
   "source": [
    "time_budget = 10*60 # in seconds\n",
    "number_pbs = 15\n",
    "size = 16\n",
    "rm_rate = 2/3\n",
    "n_playouts = 15\n",
    "\n",
    "# test flat\n",
    "n71, t71 = mc_test(time_budget, number_pbs, size, rm_rate, flat_max_inference, playout_max_inference, play_max_inference, random_cells, n_playouts)\n",
    "n72, t72 = mc_test(time_budget, number_pbs, size, rm_rate, flat, playout, play, random_cells, n_playouts)\n",
    "n73, t73 = mc_test(time_budget, number_pbs, size, rm_rate, flat_max_inference, playout_max_inference, play_max_inference, random_values, n_playouts)\n",
    "n74, t74 = mc_test(time_budget, number_pbs, size, rm_rate, flat, playout, play, random_values, n_playouts)"
   ]
  },
  {
   "cell_type": "code",
   "execution_count": null,
   "metadata": {},
   "outputs": [],
   "source": [
    "time_budget = 10*60 # in seconds\n",
    "number_pbs = 15\n",
    "size = 16\n",
    "rm_rate = 2/3\n",
    "n_playouts = 15\n",
    "\n",
    "# test flat\n",
    "n75, t75 = mc_test(time_budget, number_pbs, size, rm_rate, flat_max_inference, playout, play_dict, random_priority, n_playouts)"
   ]
  },
  {
   "cell_type": "code",
   "execution_count": 23,
   "metadata": {},
   "outputs": [
    {
     "name": "stdout",
     "output_type": "stream",
     "text": [
      "0 9001.72456908226\n",
      "0 9001.510561227798\n",
      "0 9001.441141605377\n",
      "0 9001.265055418015\n"
     ]
    }
   ],
   "source": [
    "print(n71,t71)\n",
    "print(n72,t72)\n",
    "print(n73,t73)\n",
    "print(n74,t74)"
   ]
  },
  {
   "cell_type": "code",
   "execution_count": 11,
   "metadata": {},
   "outputs": [
    {
     "name": "stdout",
     "output_type": "stream",
     "text": [
      "14 1339.7857089042664\n"
     ]
    }
   ],
   "source": [
    "print(n75, t75)"
   ]
  }
 ],
 "metadata": {
  "colab": {
   "name": "experiments.ipynb",
   "provenance": []
  },
  "kernelspec": {
   "display_name": "Python 3 (ipykernel)",
   "language": "python",
   "name": "python3"
  },
  "language_info": {
   "codemirror_mode": {
    "name": "ipython",
    "version": 3
   },
   "file_extension": ".py",
   "mimetype": "text/x-python",
   "name": "python",
   "nbconvert_exporter": "python",
   "pygments_lexer": "ipython3",
   "version": "3.10.4"
  }
 },
 "nbformat": 4,
 "nbformat_minor": 4
}
