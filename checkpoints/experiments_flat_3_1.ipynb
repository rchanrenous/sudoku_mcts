{
 "cells": [
  {
   "cell_type": "code",
   "execution_count": 1,
   "metadata": {
    "colab": {
     "base_uri": "https://localhost:8080/",
     "height": 342
    },
    "id": "U6VFqkMP1fn_",
    "outputId": "c591b968-9b70-49df-c776-1feedda74b90"
   },
   "outputs": [],
   "source": [
    "import numpy as np\n",
    "import random\n",
    "from math import sqrt\n",
    "import math\n",
    "import copy\n",
    "import collections\n",
    "import time\n",
    "import multiprocessing as mp\n",
    "\n",
    "from mcts_sudoku import *"
   ]
  },
  {
   "cell_type": "markdown",
   "metadata": {},
   "source": [
    "## rm_rate = 0.5"
   ]
  },
  {
   "cell_type": "code",
   "execution_count": null,
   "metadata": {
    "id": "iXdKu7Bg2AMu"
   },
   "outputs": [
    {
     "name": "stdout",
     "output_type": "stream",
     "text": [
      "Problem: 0, solved: 1, time:0.9385669231414795\n",
      "Problem: 1, solved: 1, time:1.5065934658050537\n",
      "Problem: 2, solved: 1, time:74.71374750137329\n",
      "Problem: 3, solved: 1, time:0.10566067695617676\n",
      "Problem: 4, solved: 1, time:39.38825225830078\n",
      "Problem: 5, solved: 0, time:600.100998878479\n",
      "Problem: 6, solved: 0, time:600.0424342155457\n",
      "Problem: 7, solved: 1, time:98.86307120323181\n",
      "Problem: 8, solved: 1, time:22.989650011062622\n",
      "Problem: 9, solved: 1, time:0.3586299419403076\n",
      "Problem: 10, solved: 1, time:201.3623502254486\n",
      "Problem: 11, solved: 1, time:0.407792329788208\n",
      "Problem: 12, solved: 1, time:0.3606867790222168\n",
      "Problem: 13, solved: 1, time:5.908301830291748\n",
      "Problem: 14, solved: 1, time:4.9412195682525635\n",
      "Solved: 13 time: 1652.1436750888824 \n",
      "\n",
      "\n",
      "Problem: 0, solved: 0, time:600.0073301792145\n",
      "Problem: 1, solved: 0, time:600.0111272335052\n",
      "Problem: 2, solved: 0, time:600.0166809558868\n"
     ]
    }
   ],
   "source": [
    "time_budget = 10*60 # in seconds\n",
    "number_pbs = 15\n",
    "size = 16\n",
    "rm_rate = 0.5\n",
    "n_playouts = 5\n",
    "\n",
    "# test flat\n",
    "n11, t11 = mc_test(time_budget, number_pbs, size, rm_rate, flat_max_inference, playout_max_inference, play_max_inference, random_cells, n_playouts)\n",
    "n12, t12 = mc_test(time_budget, number_pbs, size, rm_rate, flat, playout, play, random_cells, n_playouts)\n",
    "n13, t13 = mc_test(time_budget, number_pbs, size, rm_rate, flat_max_inference, playout_max_inference, play_max_inference, random_values, n_playouts)\n",
    "n14, t14 = mc_test(time_budget, number_pbs, size, rm_rate, flat, playout, play, random_values, n_playouts)"
   ]
  },
  {
   "cell_type": "code",
   "execution_count": 4,
   "metadata": {
    "scrolled": true
   },
   "outputs": [
    {
     "name": "stdout",
     "output_type": "stream",
     "text": [
      "13 1652.1437022686005\n",
      "0 9000.508488893509\n",
      "14 1773.7439830303192\n",
      "0 9000.557070732117\n"
     ]
    }
   ],
   "source": [
    "print(n11,t11)\n",
    "print(n12,t12)\n",
    "print(n13,t13)\n",
    "print(n14,t14)"
   ]
  },
  {
   "cell_type": "code",
   "execution_count": null,
   "metadata": {},
   "outputs": [
    {
     "name": "stdout",
     "output_type": "stream",
     "text": [
      "Problem: 0, solved: 1, time:0.35308098793029785\n",
      "Problem: 1, solved: 1, time:1.220097541809082\n",
      "Problem: 2, solved: 1, time:67.70596027374268\n",
      "Problem: 3, solved: 1, time:0.3715534210205078\n",
      "Problem: 4, solved: 1, time:2.133762836456299\n",
      "Problem: 5, solved: 1, time:450.88510727882385\n",
      "Problem: 6, solved: 1, time:2.565645456314087\n",
      "Problem: 7, solved: 1, time:0.30324554443359375\n",
      "Problem: 8, solved: 1, time:4.405700445175171\n",
      "Problem: 9, solved: 1, time:0.0923776626586914\n",
      "Problem: 10, solved: 1, time:189.4759440422058\n",
      "Problem: 11, solved: 1, time:0.19183611869812012\n",
      "Problem: 12, solved: 1, time:0.11959481239318848\n",
      "Problem: 13, solved: 1, time:1.4739086627960205\n",
      "Problem: 14, solved: 1, time:5.912517309188843\n",
      "Solved: 15 time: 727.3460643291473 \n",
      "\n",
      "\n",
      "Problem: 0, solved: 0, time:600.0925686359406\n"
     ]
    }
   ],
   "source": [
    "time_budget = 10*60 # in seconds\n",
    "number_pbs = 15\n",
    "size = 16\n",
    "rm_rate = 0.5\n",
    "n_playouts = 10\n",
    "\n",
    "# test flat\n",
    "n21, t21 = mc_test(time_budget, number_pbs, size, rm_rate, flat_max_inference, playout_max_inference, play_max_inference, random_cells, n_playouts)\n",
    "n22, t22 = mc_test(time_budget, number_pbs, size, rm_rate, flat, playout, play, random_cells, n_playouts)\n",
    "n23, t23 = mc_test(time_budget, number_pbs, size, rm_rate, flat_max_inference, playout_max_inference, play_max_inference, random_values, n_playouts)\n",
    "n24, t24 = mc_test(time_budget, number_pbs, size, rm_rate, flat, playout, play, random_values, n_playouts)"
   ]
  },
  {
   "cell_type": "code",
   "execution_count": 6,
   "metadata": {},
   "outputs": [
    {
     "name": "stdout",
     "output_type": "stream",
     "text": [
      "15 727.3461043834686\n",
      "0 9000.892813205719\n",
      "15 1250.1167695522308\n",
      "0 9001.054332017899\n"
     ]
    }
   ],
   "source": [
    "print(n21,t21)\n",
    "print(n22,t22)\n",
    "print(n23,t23)\n",
    "print(n24,t24)"
   ]
  },
  {
   "cell_type": "code",
   "execution_count": null,
   "metadata": {},
   "outputs": [],
   "source": [
    "time_budget = 10*60 # in seconds\n",
    "number_pbs = 15\n",
    "size = 16\n",
    "rm_rate = 0.5\n",
    "n_playouts = 15\n",
    "\n",
    "# test flat\n",
    "n31, t31 = mc_test(time_budget, number_pbs, size, rm_rate, flat_max_inference, playout_max_inference, play_max_inference, random_cells, n_playouts)\n",
    "n32, t32 = mc_test(time_budget, number_pbs, size, rm_rate, flat, playout, play, random_cells, n_playouts)\n",
    "n33, t33 = mc_test(time_budget, number_pbs, size, rm_rate, flat_max_inference, playout_max_inference, play_max_inference, random_values, n_playouts)\n",
    "n34, t34 = mc_test(time_budget, number_pbs, size, rm_rate, flat, playout, play, random_values, n_playouts)"
   ]
  },
  {
   "cell_type": "code",
   "execution_count": 12,
   "metadata": {},
   "outputs": [
    {
     "name": "stdout",
     "output_type": "stream",
     "text": [
      "14 1548.6308796405792\n",
      "0 9001.15558886528\n",
      "12 2464.995929002762\n",
      "0 9001.098446369171\n"
     ]
    }
   ],
   "source": [
    "print(n31,t31)\n",
    "print(n32,t32)\n",
    "print(n33,t33)\n",
    "print(n34,t34)"
   ]
  },
  {
   "cell_type": "code",
   "execution_count": null,
   "metadata": {},
   "outputs": [],
   "source": [
    "time_budget = 10*60 # in seconds\n",
    "number_pbs = 15\n",
    "size = 16\n",
    "rm_rate = 0.5\n",
    "n_playouts = 20\n",
    "\n",
    "# test flat\n",
    "n41, t41 = mc_test(time_budget, number_pbs, size, rm_rate, flat_max_inference, playout_max_inference, play_max_inference, random_cells, n_playouts)\n",
    "n42, t42 = mc_test(time_budget, number_pbs, size, rm_rate, flat, playout, play, random_cells, n_playouts)\n",
    "n43, t43 = mc_test(time_budget, number_pbs, size, rm_rate, flat_max_inference, playout_max_inference, play_max_inference, random_values, n_playouts)\n",
    "n44, t44 = mc_test(time_budget, number_pbs, size, rm_rate, flat, playout, play, random_values, n_playouts)"
   ]
  },
  {
   "cell_type": "code",
   "execution_count": null,
   "metadata": {},
   "outputs": [],
   "source": [
    "print(n41,t41)\n",
    "print(n42,t42)\n",
    "print(n43,t43)\n",
    "print(n44,t44)"
   ]
  },
  {
   "cell_type": "markdown",
   "metadata": {},
   "source": [
    "## rm_rate = 2/3"
   ]
  },
  {
   "cell_type": "code",
   "execution_count": null,
   "metadata": {},
   "outputs": [],
   "source": [
    "time_budget = 10*60 # in seconds\n",
    "number_pbs = 15\n",
    "size = 16\n",
    "rm_rate = 2/3\n",
    "n_playouts = 5\n",
    "\n",
    "# test flat\n",
    "n51, t51 = mc_test(time_budget, number_pbs, size, rm_rate, flat_max_inference, playout_max_inference, play_max_inference, random_cells, n_playouts)\n",
    "n52, t52 = mc_test(time_budget, number_pbs, size, rm_rate, flat, playout, play, random_cells, n_playouts)\n",
    "n53, t53 = mc_test(time_budget, number_pbs, size, rm_rate, flat_max_inference, playout_max_inference, play_max_inference, random_values, n_playouts)\n",
    "n54, t54 = mc_test(time_budget, number_pbs, size, rm_rate, flat, playout, play, random_values, n_playouts)"
   ]
  },
  {
   "cell_type": "code",
   "execution_count": 13,
   "metadata": {},
   "outputs": [
    {
     "name": "stdout",
     "output_type": "stream",
     "text": [
      "1 8493.078175783157\n",
      "0 9000.920634508133\n",
      "0 9000.883280038834\n",
      "0 9000.9867978096\n"
     ]
    }
   ],
   "source": [
    "print(n51,t51)\n",
    "print(n52,t52)\n",
    "print(n53,t53)\n",
    "print(n54,t54)"
   ]
  },
  {
   "cell_type": "code",
   "execution_count": null,
   "metadata": {},
   "outputs": [],
   "source": [
    "time_budget = 10*60 # in seconds\n",
    "number_pbs = 15\n",
    "size = 16\n",
    "rm_rate = 2/3\n",
    "n_playouts = 10\n",
    "\n",
    "# test flat\n",
    "n61, t61 = mc_test(time_budget, number_pbs, size, rm_rate, flat_max_inference, playout_max_inference, play_max_inference, random_cells, n_playouts)\n",
    "n62, t62 = mc_test(time_budget, number_pbs, size, rm_rate, flat, playout, play, random_cells, n_playouts)\n",
    "n63, t63 = mc_test(time_budget, number_pbs, size, rm_rate, flat_max_inference, playout_max_inference, play_max_inference, random_values, n_playouts)\n",
    "n64, t64 = mc_test(time_budget, number_pbs, size, rm_rate, flat, playout, play, random_values, n_playouts)"
   ]
  },
  {
   "cell_type": "code",
   "execution_count": null,
   "metadata": {},
   "outputs": [],
   "source": [
    "print(n61,t61)\n",
    "print(n62,t62)\n",
    "print(n63,t63)\n",
    "print(n64,t64)"
   ]
  },
  {
   "cell_type": "code",
   "execution_count": null,
   "metadata": {},
   "outputs": [],
   "source": [
    "time_budget = 10*60 # in seconds\n",
    "number_pbs = 15\n",
    "size = 16\n",
    "rm_rate = 2/3\n",
    "n_playouts = 15\n",
    "\n",
    "# test flat\n",
    "n71, t71 = mc_test(time_budget, number_pbs, size, rm_rate, flat_max_inference, playout_max_inference, play_max_inference, random_cells, n_playouts)\n",
    "n72, t72 = mc_test(time_budget, number_pbs, size, rm_rate, flat, playout, play, random_cells, n_playouts)\n",
    "n73, t73 = mc_test(time_budget, number_pbs, size, rm_rate, flat_max_inference, playout_max_inference, play_max_inference, random_values, n_playouts)\n",
    "n74, t74 = mc_test(time_budget, number_pbs, size, rm_rate, flat, playout, play, random_values, n_playouts)"
   ]
  },
  {
   "cell_type": "code",
   "execution_count": null,
   "metadata": {},
   "outputs": [],
   "source": [
    "print(n71,t71)\n",
    "print(n72,t72)\n",
    "print(n73,t73)\n",
    "print(n74,t74)"
   ]
  },
  {
   "cell_type": "code",
   "execution_count": null,
   "metadata": {},
   "outputs": [],
   "source": [
    "time_budget = 10*60 # in seconds\n",
    "number_pbs = 15\n",
    "size = 16\n",
    "rm_rate = 2/3\n",
    "n_playouts = 20\n",
    "\n",
    "# test flat\n",
    "n81, t81 = mc_test(time_budget, number_pbs, size, rm_rate, flat_max_inference, playout_max_inference, play_max_inference, random_cells, n_playouts)\n",
    "n82, t82 = mc_test(time_budget, number_pbs, size, rm_rate, flat, playout, play, random_cells, n_playouts)\n",
    "n83, t83 = mc_test(time_budget, number_pbs, size, rm_rate, flat_max_inference, playout_max_inference, play_max_inference, random_values, n_playouts)\n",
    "n84, t84 = mc_test(time_budget, number_pbs, size, rm_rate, flat, playout, play, random_values, n_playouts)"
   ]
  },
  {
   "cell_type": "code",
   "execution_count": null,
   "metadata": {},
   "outputs": [],
   "source": [
    "print(n81,t81)\n",
    "print(n82,t82)\n",
    "print(n83,t83)\n",
    "print(n84,t84)"
   ]
  }
 ],
 "metadata": {
  "colab": {
   "name": "experiments.ipynb",
   "provenance": []
  },
  "kernelspec": {
   "display_name": "Sklearn 1.0.2",
   "language": "python",
   "name": "python3"
  },
  "language_info": {
   "codemirror_mode": {
    "name": "ipython",
    "version": 3
   },
   "file_extension": ".py",
   "mimetype": "text/x-python",
   "name": "python",
   "nbconvert_exporter": "python",
   "pygments_lexer": "ipython3",
   "version": "3.9.5"
  }
 },
 "nbformat": 4,
 "nbformat_minor": 4
}
