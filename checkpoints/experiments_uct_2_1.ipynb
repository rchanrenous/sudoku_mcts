{
 "cells": [
  {
   "cell_type": "code",
   "execution_count": 1,
   "metadata": {
    "colab": {
     "base_uri": "https://localhost:8080/",
     "height": 342
    },
    "id": "U6VFqkMP1fn_",
    "outputId": "c591b968-9b70-49df-c776-1feedda74b90"
   },
   "outputs": [],
   "source": [
    "import numpy as np\n",
    "import random\n",
    "from math import sqrt\n",
    "import math\n",
    "import copy\n",
    "import collections\n",
    "import time\n",
    "import multiprocessing as mp\n",
    "\n",
    "from mcts_sudoku import *"
   ]
  },
  {
   "cell_type": "code",
   "execution_count": null,
   "metadata": {},
   "outputs": [],
   "source": [
    "globals()"
   ]
  },
  {
   "cell_type": "markdown",
   "metadata": {},
   "source": [
    "## rm_rate = 0.5"
   ]
  },
  {
   "cell_type": "code",
   "execution_count": null,
   "metadata": {
    "id": "iXdKu7Bg2AMu"
   },
   "outputs": [],
   "source": [
    "time_budget = 10*60 # in seconds\n",
    "number_pbs = 15\n",
    "size = 16\n",
    "rm_rate = 0.5\n",
    "n_playouts = 2000\n",
    "L_cst = [0.2, 0.4]\n",
    "L11 = []\n",
    "L12 = []\n",
    "L13 = []\n",
    "L14 = []\n",
    "\n",
    "# test UCT\n",
    "for cst in L_cst:\n",
    "    print(f\"cst={cst}\")\n",
    "    L11.append(mc_test(time_budget, number_pbs, size, rm_rate, BestMoveUCT, playout_max_inference, play_max_inference_hash, random_cells, n_playouts, cst))\n",
    "    L12.append(mc_test(time_budget, number_pbs, size, rm_rate, BestMoveUCT, playout, play_hash, random_cells, n_playouts, cst))\n",
    "    L13.append(mc_test(time_budget, number_pbs, size, rm_rate, BestMoveUCT, playout_max_inference, play_max_inference_hash, random_values, n_playouts, cst))\n",
    "    L14.append(mc_test(time_budget, number_pbs, size, rm_rate, BestMoveUCT, playout, play_hash, random_values, n_playouts, cst))"
   ]
  },
  {
   "cell_type": "code",
   "execution_count": null,
   "metadata": {},
   "outputs": [],
   "source": [
    "time_budget = 10*60 # in seconds\n",
    "number_pbs = 15\n",
    "size = 16\n",
    "rm_rate = 0.5\n",
    "n_playouts = 2000\n",
    "L_cst = [0.2, 0.4]\n",
    "L15 = []\n",
    "\n",
    "# test UCT\n",
    "for cst in L_cst:\n",
    "    print(f\"cst={cst}\")\n",
    "    L15.append(mc_test(time_budget, number_pbs, size, rm_rate, BestMoveUCT, playout, play_dict, random_priority, n_playouts, cst))"
   ]
  },
  {
   "cell_type": "code",
   "execution_count": 7,
   "metadata": {},
   "outputs": [
    {
     "name": "stdout",
     "output_type": "stream",
     "text": [
      "cst=0.2\n",
      "(13, 2750.9975283145905)\n",
      "(0, 9000.450191736221)\n",
      "(8, 4774.089065074921)\n",
      "(0, 9000.728724241257)\n",
      "\n",
      "\n",
      "cst=0.4\n",
      "(10, 5466.813327789307)\n",
      "(0, 9000.604231357574)\n",
      "(9, 4588.4731731414795)\n",
      "(0, 9000.671150445938)\n",
      "\n",
      "\n"
     ]
    }
   ],
   "source": [
    "for i in range(len(L_cst)):\n",
    "    print(f\"cst={L_cst[i]}\")\n",
    "    print(L11[i])\n",
    "    print(L12[i])\n",
    "    print(L13[i])\n",
    "    print(L14[i])\n",
    "    print(\"\\n\")"
   ]
  },
  {
   "cell_type": "code",
   "execution_count": null,
   "metadata": {},
   "outputs": [],
   "source": [
    "time_budget = 10*60 # in seconds\n",
    "number_pbs = 15\n",
    "size = 16\n",
    "rm_rate = 0.5\n",
    "n_playouts = 4000\n",
    "L_cst = [0.2, 0.4]\n",
    "L21 = []\n",
    "L22 = []\n",
    "L23 = []\n",
    "L24 = []\n",
    "\n",
    "# test UCT\n",
    "for cst in L_cst:\n",
    "    print(f\"cst={cst}\")\n",
    "    L21.append(mc_test(time_budget, number_pbs, size, rm_rate, BestMoveUCT, playout_max_inference, play_max_inference_hash, random_cells, n_playouts, cst))\n",
    "    L22.append(mc_test(time_budget, number_pbs, size, rm_rate, BestMoveUCT, playout, play_hash, random_cells, n_playouts, cst))\n",
    "    L23.append(mc_test(time_budget, number_pbs, size, rm_rate, BestMoveUCT, playout_max_inference, play_max_inference_hash, random_values, n_playouts, cst))\n",
    "    L24.append(mc_test(time_budget, number_pbs, size, rm_rate, BestMoveUCT, playout, play_hash, random_values, n_playouts, cst))"
   ]
  },
  {
   "cell_type": "code",
   "execution_count": null,
   "metadata": {},
   "outputs": [],
   "source": [
    "time_budget = 10*60 # in seconds\n",
    "number_pbs = 15\n",
    "size = 16\n",
    "rm_rate = 0.5\n",
    "n_playouts = 4000\n",
    "L_cst = [0.2, 0.4]\n",
    "L25 = []\n",
    "\n",
    "# test UCT\n",
    "for cst in L_cst:\n",
    "    print(f\"cst={cst}\")\n",
    "    L25.append(mc_test(time_budget, number_pbs, size, rm_rate, BestMoveUCT, playout, play_dict, random_priority, n_playouts, cst))"
   ]
  },
  {
   "cell_type": "code",
   "execution_count": 8,
   "metadata": {},
   "outputs": [
    {
     "name": "stdout",
     "output_type": "stream",
     "text": [
      "cst=0.2\n",
      "(9, 3632.823600769043)\n",
      "(0, 9001.2128469944)\n",
      "(10, 3076.682604074478)\n",
      "(0, 9000.815266132355)\n",
      "\n",
      "\n",
      "cst=0.4\n",
      "(8, 4230.168381929398)\n",
      "(0, 9001.22196507454)\n",
      "(10, 3049.846842765808)\n",
      "(0, 9000.98257470131)\n",
      "\n",
      "\n"
     ]
    }
   ],
   "source": [
    "for i in range(len(L_cst)):\n",
    "    print(f\"cst={L_cst[i]}\")\n",
    "    print(L21[i])\n",
    "    print(L22[i])\n",
    "    print(L23[i])\n",
    "    print(L24[i])\n",
    "    print(\"\\n\")"
   ]
  },
  {
   "cell_type": "code",
   "execution_count": null,
   "metadata": {},
   "outputs": [],
   "source": [
    "time_budget = 10*60 # in seconds\n",
    "number_pbs = 15\n",
    "size = 16\n",
    "rm_rate = 0.5\n",
    "n_playouts = 6000\n",
    "L_cst = [0.2, 0.4]\n",
    "L31 = []\n",
    "L32 = []\n",
    "L33 = []\n",
    "L34 = []\n",
    "\n",
    "# test UCT\n",
    "for cst in L_cst:\n",
    "    print(f\"cst={cst}\")\n",
    "    L31.append(mc_test(time_budget, number_pbs, size, rm_rate, BestMoveUCT, playout_max_inference, play_max_inference_hash, random_cells, n_playouts, cst))\n",
    "    L32.append(mc_test(time_budget, number_pbs, size, rm_rate, BestMoveUCT, playout, play_hash, random_cells, n_playouts, cst))\n",
    "    L33.append(mc_test(time_budget, number_pbs, size, rm_rate, BestMoveUCT, playout_max_inference, play_max_inference_hash, random_values, n_playouts, cst))\n",
    "    L34.append(mc_test(time_budget, number_pbs, size, rm_rate, BestMoveUCT, playout, play_hash, random_values, n_playouts, cst))"
   ]
  },
  {
   "cell_type": "code",
   "execution_count": null,
   "metadata": {},
   "outputs": [],
   "source": [
    "time_budget = 10*60 # in seconds\n",
    "number_pbs = 15\n",
    "size = 16\n",
    "rm_rate = 0.5\n",
    "n_playouts = 6000\n",
    "L_cst = [0.2, 0.4]\n",
    "L35 = []\n",
    "\n",
    "# test UCT\n",
    "for cst in L_cst:\n",
    "    print(f\"cst={cst}\")\n",
    "    L35.append(mc_test(time_budget, number_pbs, size, rm_rate, BestMoveUCT, playout, play_dict, random_priority, n_playouts, cst))"
   ]
  },
  {
   "cell_type": "code",
   "execution_count": null,
   "metadata": {},
   "outputs": [],
   "source": [
    "for i in range(len(L_cst)):\n",
    "    print(f\"cst={L_cst[i]}\")\n",
    "    print(L31[i])\n",
    "    print(L32[i])\n",
    "    print(L33[i])\n",
    "    print(L34[i])\n",
    "    print(\"\\n\")"
   ]
  },
  {
   "cell_type": "code",
   "execution_count": null,
   "metadata": {},
   "outputs": [],
   "source": [
    "time_budget = 10*60 # in seconds\n",
    "number_pbs = 15\n",
    "size = 16\n",
    "rm_rate = 0.5\n",
    "n_playouts = 8000\n",
    "L_cst = [0.2, 0.4]\n",
    "L41 = []\n",
    "L42 = []\n",
    "L43 = []\n",
    "L44 = []\n",
    "\n",
    "# test UCT\n",
    "for cst in L_cst:\n",
    "    print(f\"cst={cst}\")\n",
    "    L41.append(mc_test(time_budget, number_pbs, size, rm_rate, BestMoveUCT, playout_max_inference, play_max_inference_hash, random_cells, n_playouts, cst))\n",
    "    L42.append(mc_test(time_budget, number_pbs, size, rm_rate, BestMoveUCT, playout, play_hash, random_cells, n_playouts, cst))\n",
    "    L43.append(mc_test(time_budget, number_pbs, size, rm_rate, BestMoveUCT, playout_max_inference, play_max_inference_hash, random_values, n_playouts, cst))\n",
    "    L44.append(mc_test(time_budget, number_pbs, size, rm_rate, BestMoveUCT, playout, play_hash, random_values, n_playouts, cst))"
   ]
  },
  {
   "cell_type": "code",
   "execution_count": null,
   "metadata": {},
   "outputs": [],
   "source": [
    "time_budget = 10*60 # in seconds\n",
    "number_pbs = 15\n",
    "size = 16\n",
    "rm_rate = 0.5\n",
    "n_playouts = 8000\n",
    "L_cst = [0.2, 0.4]\n",
    "L45 = []\n",
    "\n",
    "# test UCT\n",
    "for cst in L_cst:\n",
    "    print(f\"cst={cst}\")\n",
    "    L45.append(mc_test(time_budget, number_pbs, size, rm_rate, BestMoveUCT, playout, play_dict, random_priority, n_playouts, cst))"
   ]
  },
  {
   "cell_type": "code",
   "execution_count": null,
   "metadata": {},
   "outputs": [],
   "source": [
    "for i in range(len(L_cst)):\n",
    "    print(f\"cst={L_cst[i]}\")\n",
    "    print(L41[i])\n",
    "    print(L42[i])\n",
    "    print(L43[i])\n",
    "    print(L44[i])\n",
    "    print(\"\\n\")"
   ]
  },
  {
   "cell_type": "markdown",
   "metadata": {},
   "source": [
    "## rm_rate = 2/3"
   ]
  },
  {
   "cell_type": "code",
   "execution_count": null,
   "metadata": {},
   "outputs": [],
   "source": [
    "time_budget = 10*60 # in seconds\n",
    "number_pbs = 15\n",
    "size = 16\n",
    "rm_rate = 2/3\n",
    "n_playouts = 2000\n",
    "L_cst = [0.2, 0.4]\n",
    "L51 = []\n",
    "L52 = []\n",
    "L53 = []\n",
    "L54 = []\n",
    "\n",
    "# test UCT\n",
    "for cst in L_cst:\n",
    "    print(f\"cst={cst}\")\n",
    "    L51.append(mc_test(time_budget, number_pbs, size, rm_rate, BestMoveUCT, playout_max_inference, play_max_inference_hash, random_cells, n_playouts, cst))\n",
    "    L52.append(mc_test(time_budget, number_pbs, size, rm_rate, BestMoveUCT, playout, play_hash, random_cells, n_playouts, cst))\n",
    "    L53.append(mc_test(time_budget, number_pbs, size, rm_rate, BestMoveUCT, playout_max_inference, play_max_inference_hash, random_values, n_playouts, cst))\n",
    "    L54.append(mc_test(time_budget, number_pbs, size, rm_rate, BestMoveUCT, playout, play_hash, random_values, n_playouts, cst))"
   ]
  },
  {
   "cell_type": "code",
   "execution_count": null,
   "metadata": {},
   "outputs": [],
   "source": [
    "time_budget = 10*60 # in seconds\n",
    "number_pbs = 15\n",
    "size = 16\n",
    "rm_rate = 2/3\n",
    "n_playouts = 2000\n",
    "L_cst = [0.2, 0.4]\n",
    "L55 = []\n",
    "\n",
    "# test UCT\n",
    "for cst in L_cst:\n",
    "    print(f\"cst={cst}\")\n",
    "    L55.append(mc_test(time_budget, number_pbs, size, rm_rate, BestMoveUCT, playout, play_dict, random_priority, n_playouts, cst))"
   ]
  },
  {
   "cell_type": "code",
   "execution_count": 18,
   "metadata": {},
   "outputs": [
    {
     "name": "stdout",
     "output_type": "stream",
     "text": [
      "cst=0.2\n",
      "(0, 9001.315743684769)\n",
      "(0, 9001.06756234169)\n",
      "(2, 8175.516954421997)\n",
      "(0, 9001.120324850082)\n",
      "\n",
      "\n",
      "cst=0.4\n",
      "(1, 8547.166785955429)\n",
      "(0, 9001.135169744492)\n",
      "(0, 9001.400039196014)\n",
      "(0, 9001.250261545181)\n",
      "\n",
      "\n"
     ]
    }
   ],
   "source": [
    "for i in range(len(L_cst)):\n",
    "    print(f\"cst={L_cst[i]}\")\n",
    "    print(L51[i])\n",
    "    print(L52[i])\n",
    "    print(L53[i])\n",
    "    print(L54[i])\n",
    "    print(\"\\n\")"
   ]
  },
  {
   "cell_type": "code",
   "execution_count": null,
   "metadata": {},
   "outputs": [],
   "source": [
    "time_budget = 10*60 # in seconds\n",
    "number_pbs = 15\n",
    "size = 16\n",
    "rm_rate = 2/3\n",
    "n_playouts = 4000\n",
    "L_cst = [0.2, 0.4]\n",
    "L61 = []\n",
    "L62 = []\n",
    "L63 = []\n",
    "L64 = []\n",
    "\n",
    "# test UCT\n",
    "for cst in L_cst:\n",
    "    print(f\"cst={cst}\")\n",
    "    L61.append(mc_test(time_budget, number_pbs, size, rm_rate, BestMoveUCT, playout_max_inference, play_max_inference_hash, random_cells, n_playouts, cst))\n",
    "    L62.append(mc_test(time_budget, number_pbs, size, rm_rate, BestMoveUCT, playout, play_hash, random_cells, n_playouts, cst))\n",
    "    L63.append(mc_test(time_budget, number_pbs, size, rm_rate, BestMoveUCT, playout_max_inference, play_max_inference_hash, random_values, n_playouts, cst))\n",
    "    L64.append(mc_test(time_budget, number_pbs, size, rm_rate, BestMoveUCT, playout, play_hash, random_values, n_playouts, cst))"
   ]
  },
  {
   "cell_type": "code",
   "execution_count": null,
   "metadata": {},
   "outputs": [],
   "source": [
    "time_budget = 10*60 # in seconds\n",
    "number_pbs = 15\n",
    "size = 16\n",
    "rm_rate = 2/3\n",
    "n_playouts = 4000\n",
    "L_cst = [0.2, 0.4]\n",
    "L65 = []\n",
    "\n",
    "# test UCT\n",
    "for cst in L_cst:\n",
    "    print(f\"cst={cst}\")\n",
    "    L65.append(mc_test(time_budget, number_pbs, size, rm_rate, BestMoveUCT, playout, play_dict, random_priority, n_playouts, cst))"
   ]
  },
  {
   "cell_type": "code",
   "execution_count": null,
   "metadata": {},
   "outputs": [],
   "source": [
    "for i in range(len(L_cst)):\n",
    "    print(f\"cst={L_cst[i]}\")\n",
    "    print(L61[i])\n",
    "    print(L62[i])\n",
    "    print(L63[i])\n",
    "    print(L64[i])\n",
    "    print(\"\\n\")"
   ]
  },
  {
   "cell_type": "code",
   "execution_count": null,
   "metadata": {},
   "outputs": [],
   "source": [
    "time_budget = 10*60 # in seconds\n",
    "number_pbs = 15\n",
    "size = 16\n",
    "rm_rate = 2/3\n",
    "n_playouts = 6000\n",
    "L_cst = [0.2, 0.4]\n",
    "L71 = []\n",
    "L72 = []\n",
    "L73 = []\n",
    "L74 = []\n",
    "\n",
    "# test UCT\n",
    "for cst in L_cst:\n",
    "    print(f\"cst={cst}\")\n",
    "    L71.append(mc_test(time_budget, number_pbs, size, rm_rate, BestMoveUCT, playout_max_inference, play_max_inference_hash, random_cells, n_playouts, cst))\n",
    "    L72.append(mc_test(time_budget, number_pbs, size, rm_rate, BestMoveUCT, playout, play_hash, random_cells, n_playouts, cst))\n",
    "    L73.append(mc_test(time_budget, number_pbs, size, rm_rate, BestMoveUCT, playout_max_inference, play_max_inference_hash, random_values, n_playouts, cst))\n",
    "    L74.append(mc_test(time_budget, number_pbs, size, rm_rate, BestMoveUCT, playout, play_hash, random_values, n_playouts, cst))"
   ]
  },
  {
   "cell_type": "code",
   "execution_count": null,
   "metadata": {},
   "outputs": [],
   "source": [
    "time_budget = 10*60 # in seconds\n",
    "number_pbs = 15\n",
    "size = 16\n",
    "rm_rate = 2/3\n",
    "n_playouts = 6000\n",
    "L_cst = [0.2, 0.4]\n",
    "L75 = []\n",
    "\n",
    "# test UCT\n",
    "for cst in L_cst:\n",
    "    print(f\"cst={cst}\")\n",
    "    L75.append(mc_test(time_budget, number_pbs, size, rm_rate, BestMoveUCT, playout, play_dict, random_priority, n_playouts, cst))"
   ]
  },
  {
   "cell_type": "code",
   "execution_count": null,
   "metadata": {},
   "outputs": [],
   "source": [
    "for i in range(len(L_cst)):\n",
    "    print(f\"cst={L_cst[i]}\")\n",
    "    print(L71[i])\n",
    "    print(L72[i])\n",
    "    print(L73[i])\n",
    "    print(L74[i])\n",
    "    print(\"\\n\")"
   ]
  },
  {
   "cell_type": "code",
   "execution_count": null,
   "metadata": {},
   "outputs": [],
   "source": [
    "time_budget = 10*60 # in seconds\n",
    "number_pbs = 15\n",
    "size = 16\n",
    "rm_rate = 2/3\n",
    "n_playouts = 8000\n",
    "L_cst = [0.2, 0.4]\n",
    "L81 = []\n",
    "L82 = []\n",
    "L83 = []\n",
    "L84 = []\n",
    "\n",
    "# test UCT\n",
    "for cst in L_cst:\n",
    "    print(f\"cst={cst}\")\n",
    "    L81.append(mc_test(time_budget, number_pbs, size, rm_rate, BestMoveUCT, playout_max_inference, play_max_inference_hash, random_cells, n_playouts, cst))\n",
    "    L82.append(mc_test(time_budget, number_pbs, size, rm_rate, BestMoveUCT, playout, play_hash, random_cells, n_playouts, cst))\n",
    "    L83.append(mc_test(time_budget, number_pbs, size, rm_rate, BestMoveUCT, playout_max_inference, play_max_inference_hash, random_values, n_playouts, cst))\n",
    "    L84.append(mc_test(time_budget, number_pbs, size, rm_rate, BestMoveUCT, playout, play_hash, random_values, n_playouts, cst))"
   ]
  },
  {
   "cell_type": "code",
   "execution_count": null,
   "metadata": {},
   "outputs": [],
   "source": [
    "time_budget = 10*60 # in seconds\n",
    "number_pbs = 15\n",
    "size = 16\n",
    "rm_rate = 2/3\n",
    "n_playouts = 8000\n",
    "L_cst = [0.2, 0.4]\n",
    "L85 = []\n",
    "\n",
    "# test UCT\n",
    "for cst in L_cst:\n",
    "    print(f\"cst={cst}\")\n",
    "    L85.append(mc_test(time_budget, number_pbs, size, rm_rate, BestMoveUCT, playout, play_dict, random_priority, n_playouts, cst))"
   ]
  },
  {
   "cell_type": "code",
   "execution_count": null,
   "metadata": {},
   "outputs": [],
   "source": [
    "for i in range(len(L_cst)):\n",
    "    print(f\"cst={L_cst[i]}\")\n",
    "    print(L81[i])\n",
    "    print(L82[i])\n",
    "    print(L83[i])\n",
    "    print(L84[i])\n",
    "    print(\"\\n\")"
   ]
  }
 ],
 "metadata": {
  "colab": {
   "name": "experiments.ipynb",
   "provenance": []
  },
  "kernelspec": {
   "display_name": "Sklearn 1.0.2",
   "language": "python",
   "name": "python3"
  },
  "language_info": {
   "codemirror_mode": {
    "name": "ipython",
    "version": 3
   },
   "file_extension": ".py",
   "mimetype": "text/x-python",
   "name": "python",
   "nbconvert_exporter": "python",
   "pygments_lexer": "ipython3",
   "version": "3.9.5"
  }
 },
 "nbformat": 4,
 "nbformat_minor": 4
}
