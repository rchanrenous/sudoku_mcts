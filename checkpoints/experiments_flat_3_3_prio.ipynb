{
 "cells": [
  {
   "cell_type": "code",
   "execution_count": 1,
   "metadata": {
    "colab": {
     "base_uri": "https://localhost:8080/",
     "height": 342
    },
    "id": "U6VFqkMP1fn_",
    "outputId": "c591b968-9b70-49df-c776-1feedda74b90"
   },
   "outputs": [],
   "source": [
    "import numpy as np\n",
    "import random\n",
    "from math import sqrt\n",
    "import math\n",
    "import copy\n",
    "import collections\n",
    "import time\n",
    "import multiprocessing as mp\n",
    "\n",
    "from mcts_sudoku2 import *"
   ]
  },
  {
   "cell_type": "code",
   "execution_count": 4,
   "metadata": {},
   "outputs": [
    {
     "data": {
      "text/plain": [
       "{'__name__': '__main__',\n",
       " '__doc__': 'Automatically created module for IPython interactive environment',\n",
       " '__package__': None,\n",
       " '__loader__': None,\n",
       " '__spec__': None,\n",
       " '__builtin__': <module 'builtins' (built-in)>,\n",
       " '__builtins__': <module 'builtins' (built-in)>,\n",
       " '_ih': ['',\n",
       "  'print(n55, t55)',\n",
       "  'print(n65, t65)',\n",
       "  'print(n75, t75)',\n",
       "  'globals()'],\n",
       " '_oh': {},\n",
       " '_dh': [PosixPath('/workspace')],\n",
       " 'In': ['',\n",
       "  'print(n55, t55)',\n",
       "  'print(n65, t65)',\n",
       "  'print(n75, t75)',\n",
       "  'globals()'],\n",
       " 'Out': {},\n",
       " 'get_ipython': <bound method InteractiveShell.get_ipython of <ipykernel.zmqshell.ZMQInteractiveShell object at 0x7efda861d6a0>>,\n",
       " 'exit': <IPython.core.autocall.ZMQExitAutocall at 0x7efda861de80>,\n",
       " 'quit': <IPython.core.autocall.ZMQExitAutocall at 0x7efda861de80>,\n",
       " '_': '',\n",
       " '__': '',\n",
       " '___': '',\n",
       " '_i': 'print(n75, t75)',\n",
       " '_ii': 'print(n65, t65)',\n",
       " '_iii': 'print(n55, t55)',\n",
       " '_i1': 'print(n55, t55)',\n",
       " '_i2': 'print(n65, t65)',\n",
       " '_i3': 'print(n75, t75)',\n",
       " '_i4': 'globals()'}"
      ]
     },
     "execution_count": 4,
     "metadata": {},
     "output_type": "execute_result"
    }
   ],
   "source": [
    "globals()"
   ]
  },
  {
   "cell_type": "markdown",
   "metadata": {},
   "source": [
    "## rm_rate = 0.5"
   ]
  },
  {
   "cell_type": "code",
   "execution_count": null,
   "metadata": {
    "id": "iXdKu7Bg2AMu"
   },
   "outputs": [],
   "source": [
    "time_budget = 10*60 # in seconds\n",
    "number_pbs = 15\n",
    "size = 16\n",
    "rm_rate = 0.5\n",
    "n_playouts = 5\n",
    "\n",
    "# test flat\n",
    "n11, t11 = mc_test(time_budget, number_pbs, size, rm_rate, flat_max_inference, playout_max_inference, play_max_inference, random_cells, n_playouts)\n",
    "n12, t12 = mc_test(time_budget, number_pbs, size, rm_rate, flat, playout, play, random_cells, n_playouts)\n",
    "n13, t13 = mc_test(time_budget, number_pbs, size, rm_rate, flat_max_inference, playout_max_inference, play_max_inference, random_values, n_playouts)\n",
    "n14, t14 = mc_test(time_budget, number_pbs, size, rm_rate, flat, playout, play, random_values, n_playouts)"
   ]
  },
  {
   "cell_type": "code",
   "execution_count": 2,
   "metadata": {},
   "outputs": [
    {
     "name": "stdout",
     "output_type": "stream",
     "text": [
      "Problem: 0, solved: 1, time:0.2679593563079834\n",
      "Problem: 1, solved: 1, time:0.21838593482971191\n",
      "Problem: 2, solved: 1, time:0.058180809020996094\n",
      "Problem: 3, solved: 1, time:0.1323106288909912\n",
      "Problem: 4, solved: 1, time:0.03267812728881836\n",
      "Problem: 5, solved: 1, time:0.09412288665771484\n",
      "Problem: 6, solved: 1, time:0.03944206237792969\n",
      "Problem: 7, solved: 1, time:0.19751429557800293\n",
      "Problem: 8, solved: 1, time:0.49594616889953613\n",
      "Problem: 9, solved: 1, time:0.029094934463500977\n",
      "Problem: 10, solved: 1, time:0.07166337966918945\n",
      "Problem: 11, solved: 1, time:0.7601034641265869\n",
      "Problem: 12, solved: 1, time:0.04609370231628418\n",
      "Problem: 13, solved: 1, time:0.47554516792297363\n",
      "Problem: 14, solved: 1, time:0.042023658752441406\n",
      "Solved: 15 time: 3.1505134105682373 \n",
      "\n",
      "\n"
     ]
    }
   ],
   "source": [
    "time_budget = 10*60 # in seconds\n",
    "number_pbs = 15\n",
    "size = 16\n",
    "rm_rate = 0.5\n",
    "n_playouts = 5\n",
    "\n",
    "# test flat\n",
    "n15, t15 = mc_test(time_budget, number_pbs, size, rm_rate, flat, playout, play_dict, random_priority, n_playouts)"
   ]
  },
  {
   "cell_type": "code",
   "execution_count": 4,
   "metadata": {
    "scrolled": true
   },
   "outputs": [
    {
     "name": "stdout",
     "output_type": "stream",
     "text": [
      "13 1652.1437022686005\n",
      "0 9000.508488893509\n",
      "14 1773.7439830303192\n",
      "0 9000.557070732117\n"
     ]
    }
   ],
   "source": [
    "print(n11,t11)\n",
    "print(n12,t12)\n",
    "print(n13,t13)\n",
    "print(n14,t14)"
   ]
  },
  {
   "cell_type": "code",
   "execution_count": 1,
   "metadata": {},
   "outputs": [
    {
     "ename": "NameError",
     "evalue": "name 'n15' is not defined",
     "output_type": "error",
     "traceback": [
      "\u001b[0;31m---------------------------------------------------------------------------\u001b[0m",
      "\u001b[0;31mNameError\u001b[0m                                 Traceback (most recent call last)",
      "Input \u001b[0;32mIn [1]\u001b[0m, in \u001b[0;36m<cell line: 1>\u001b[0;34m()\u001b[0m\n\u001b[0;32m----> 1\u001b[0m \u001b[38;5;28mprint\u001b[39m(\u001b[43mn15\u001b[49m, t15)\n",
      "\u001b[0;31mNameError\u001b[0m: name 'n15' is not defined"
     ]
    }
   ],
   "source": [
    "print(n15, t15)"
   ]
  },
  {
   "cell_type": "code",
   "execution_count": null,
   "metadata": {},
   "outputs": [],
   "source": [
    "time_budget = 10*60 # in seconds\n",
    "number_pbs = 15\n",
    "size = 16\n",
    "rm_rate = 0.5\n",
    "n_playouts = 10\n",
    "\n",
    "# test flat\n",
    "n21, t21 = mc_test(time_budget, number_pbs, size, rm_rate, flat_max_inference, playout_max_inference, play_max_inference, random_cells, n_playouts)\n",
    "n22, t22 = mc_test(time_budget, number_pbs, size, rm_rate, flat, playout, play, random_cells, n_playouts)\n",
    "n23, t23 = mc_test(time_budget, number_pbs, size, rm_rate, flat_max_inference, playout_max_inference, play_max_inference, random_values, n_playouts)\n",
    "n24, t24 = mc_test(time_budget, number_pbs, size, rm_rate, flat, playout, play, random_values, n_playouts)"
   ]
  },
  {
   "cell_type": "code",
   "execution_count": 3,
   "metadata": {},
   "outputs": [
    {
     "name": "stdout",
     "output_type": "stream",
     "text": [
      "Problem: 0, solved: 1, time:0.7778646945953369\n",
      "Problem: 1, solved: 1, time:0.16991472244262695\n",
      "Problem: 2, solved: 1, time:0.06691980361938477\n",
      "Problem: 3, solved: 1, time:0.12638449668884277\n",
      "Problem: 4, solved: 1, time:0.043334245681762695\n",
      "Problem: 5, solved: 1, time:0.1074516773223877\n",
      "Problem: 6, solved: 1, time:0.04616427421569824\n",
      "Problem: 7, solved: 1, time:0.19878077507019043\n",
      "Problem: 8, solved: 1, time:0.5706183910369873\n",
      "Problem: 9, solved: 1, time:0.03734254837036133\n",
      "Problem: 10, solved: 1, time:0.05965375900268555\n",
      "Problem: 11, solved: 1, time:0.695378303527832\n",
      "Problem: 12, solved: 1, time:0.05769991874694824\n",
      "Problem: 13, solved: 1, time:0.1847975254058838\n",
      "Problem: 14, solved: 1, time:0.03495669364929199\n",
      "Solved: 15 time: 3.349966526031494 \n",
      "\n",
      "\n"
     ]
    }
   ],
   "source": [
    "time_budget = 10*60 # in seconds\n",
    "number_pbs = 15\n",
    "size = 16\n",
    "rm_rate = 0.5\n",
    "n_playouts = 10\n",
    "\n",
    "# test flat\n",
    "n25, t25 = mc_test(time_budget, number_pbs, size, rm_rate, flat_max_inference, playout, play_dict, random_priority, n_playouts)"
   ]
  },
  {
   "cell_type": "code",
   "execution_count": 6,
   "metadata": {},
   "outputs": [
    {
     "name": "stdout",
     "output_type": "stream",
     "text": [
      "15 727.3461043834686\n",
      "0 9000.892813205719\n",
      "15 1250.1167695522308\n",
      "0 9001.054332017899\n"
     ]
    }
   ],
   "source": [
    "print(n21,t21)\n",
    "print(n22,t22)\n",
    "print(n23,t23)\n",
    "print(n24,t24)"
   ]
  },
  {
   "cell_type": "code",
   "execution_count": null,
   "metadata": {},
   "outputs": [],
   "source": [
    "print(n25, t25)"
   ]
  },
  {
   "cell_type": "code",
   "execution_count": null,
   "metadata": {},
   "outputs": [],
   "source": [
    "time_budget = 10*60 # in seconds\n",
    "number_pbs = 15\n",
    "size = 16\n",
    "rm_rate = 0.5\n",
    "n_playouts = 15\n",
    "\n",
    "# test flat\n",
    "n31, t31 = mc_test(time_budget, number_pbs, size, rm_rate, flat_max_inference, playout_max_inference, play_max_inference, random_cells, n_playouts)\n",
    "n32, t32 = mc_test(time_budget, number_pbs, size, rm_rate, flat, playout, play, random_cells, n_playouts)\n",
    "n33, t33 = mc_test(time_budget, number_pbs, size, rm_rate, flat_max_inference, playout_max_inference, play_max_inference, random_values, n_playouts)\n",
    "n34, t34 = mc_test(time_budget, number_pbs, size, rm_rate, flat, playout, play, random_values, n_playouts)"
   ]
  },
  {
   "cell_type": "code",
   "execution_count": 4,
   "metadata": {},
   "outputs": [
    {
     "name": "stdout",
     "output_type": "stream",
     "text": [
      "Problem: 0, solved: 1, time:0.20268654823303223\n",
      "Problem: 1, solved: 1, time:0.39330434799194336\n",
      "Problem: 2, solved: 1, time:0.0707089900970459\n",
      "Problem: 3, solved: 1, time:0.15034747123718262\n",
      "Problem: 4, solved: 1, time:0.04491281509399414\n",
      "Problem: 5, solved: 1, time:0.24378132820129395\n",
      "Problem: 6, solved: 1, time:0.04781031608581543\n",
      "Problem: 7, solved: 1, time:0.19959115982055664\n",
      "Problem: 8, solved: 1, time:0.7274610996246338\n",
      "Problem: 9, solved: 1, time:0.0288236141204834\n",
      "Problem: 10, solved: 1, time:0.19396710395812988\n",
      "Problem: 11, solved: 1, time:0.35063791275024414\n",
      "Problem: 12, solved: 1, time:0.05180001258850098\n",
      "Problem: 13, solved: 1, time:0.3589768409729004\n",
      "Problem: 14, solved: 1, time:0.033821821212768555\n",
      "Solved: 15 time: 3.303983211517334 \n",
      "\n",
      "\n"
     ]
    }
   ],
   "source": [
    "time_budget = 10*60 # in seconds\n",
    "number_pbs = 15\n",
    "size = 16\n",
    "rm_rate = 0.5\n",
    "n_playouts = 15\n",
    "\n",
    "# test flat\n",
    "n35, t35 = mc_test(time_budget, number_pbs, size, rm_rate, flat_max_inference, playout, play_dict, random_priority, n_playouts)"
   ]
  },
  {
   "cell_type": "code",
   "execution_count": 12,
   "metadata": {},
   "outputs": [
    {
     "name": "stdout",
     "output_type": "stream",
     "text": [
      "14 1548.6308796405792\n",
      "0 9001.15558886528\n",
      "12 2464.995929002762\n",
      "0 9001.098446369171\n"
     ]
    }
   ],
   "source": [
    "print(n31,t31)\n",
    "print(n32,t32)\n",
    "print(n33,t33)\n",
    "print(n34,t34)"
   ]
  },
  {
   "cell_type": "code",
   "execution_count": null,
   "metadata": {},
   "outputs": [],
   "source": [
    "print(n35, t35)"
   ]
  },
  {
   "cell_type": "code",
   "execution_count": null,
   "metadata": {},
   "outputs": [],
   "source": [
    "time_budget = 10*60 # in seconds\n",
    "number_pbs = 15\n",
    "size = 16\n",
    "rm_rate = 0.5\n",
    "n_playouts = 20\n",
    "\n",
    "# test flat\n",
    "n41, t41 = mc_test(time_budget, number_pbs, size, rm_rate, flat_max_inference, playout_max_inference, play_max_inference, random_cells, n_playouts)\n",
    "n42, t42 = mc_test(time_budget, number_pbs, size, rm_rate, flat, playout, play, random_cells, n_playouts)\n",
    "n43, t43 = mc_test(time_budget, number_pbs, size, rm_rate, flat_max_inference, playout_max_inference, play_max_inference, random_values, n_playouts)\n",
    "n44, t44 = mc_test(time_budget, number_pbs, size, rm_rate, flat, playout, play, random_values, n_playouts)"
   ]
  },
  {
   "cell_type": "code",
   "execution_count": null,
   "metadata": {},
   "outputs": [],
   "source": [
    "time_budget = 10*60 # in seconds\n",
    "number_pbs = 15\n",
    "size = 16\n",
    "rm_rate = 0.5\n",
    "n_playouts = 20\n",
    "\n",
    "# test flat\n",
    "n45, t45 = mc_test(time_budget, number_pbs, size, rm_rate, flat_max_inference, playout, play_dict, random_priority, n_playouts)"
   ]
  },
  {
   "cell_type": "code",
   "execution_count": null,
   "metadata": {},
   "outputs": [],
   "source": [
    "print(n41,t41)\n",
    "print(n42,t42)\n",
    "print(n43,t43)\n",
    "print(n44,t44)"
   ]
  },
  {
   "cell_type": "code",
   "execution_count": null,
   "metadata": {},
   "outputs": [],
   "source": [
    "print(n45, t45)"
   ]
  },
  {
   "cell_type": "markdown",
   "metadata": {},
   "source": [
    "## rm_rate = 2/3"
   ]
  },
  {
   "cell_type": "code",
   "execution_count": null,
   "metadata": {},
   "outputs": [],
   "source": [
    "time_budget = 10*60 # in seconds\n",
    "number_pbs = 15\n",
    "size = 16\n",
    "rm_rate = 2/3\n",
    "n_playouts = 5\n",
    "\n",
    "# test flat\n",
    "n51, t51 = mc_test(time_budget, number_pbs, size, rm_rate, flat_max_inference, playout_max_inference, play_max_inference, random_cells, n_playouts)\n",
    "n52, t52 = mc_test(time_budget, number_pbs, size, rm_rate, flat, playout, play, random_cells, n_playouts)\n",
    "n53, t53 = mc_test(time_budget, number_pbs, size, rm_rate, flat_max_inference, playout_max_inference, play_max_inference, random_values, n_playouts)\n",
    "n54, t54 = mc_test(time_budget, number_pbs, size, rm_rate, flat, playout, play, random_values, n_playouts)"
   ]
  },
  {
   "cell_type": "code",
   "execution_count": null,
   "metadata": {},
   "outputs": [
    {
     "name": "stdout",
     "output_type": "stream",
     "text": [
      "Problem: 0, solved: 1, time:13.273299932479858\n"
     ]
    }
   ],
   "source": [
    "time_budget = 10*60 # in seconds\n",
    "number_pbs = 15\n",
    "size = 16\n",
    "rm_rate = 2/3\n",
    "n_playouts = 5\n",
    "\n",
    "# test flat\n",
    "n55, t55 = mc_test(time_budget, number_pbs, size, rm_rate, flat_max_inference, playout, play_dict, random_priority, n_playouts)"
   ]
  },
  {
   "cell_type": "code",
   "execution_count": 13,
   "metadata": {},
   "outputs": [
    {
     "name": "stdout",
     "output_type": "stream",
     "text": [
      "1 8493.078175783157\n",
      "0 9000.920634508133\n",
      "0 9000.883280038834\n",
      "0 9000.9867978096\n"
     ]
    }
   ],
   "source": [
    "print(n51,t51)\n",
    "print(n52,t52)\n",
    "print(n53,t53)\n",
    "print(n54,t54)"
   ]
  },
  {
   "cell_type": "code",
   "execution_count": 1,
   "metadata": {},
   "outputs": [
    {
     "ename": "NameError",
     "evalue": "name 'n55' is not defined",
     "output_type": "error",
     "traceback": [
      "\u001b[0;31m---------------------------------------------------------------------------\u001b[0m",
      "\u001b[0;31mNameError\u001b[0m                                 Traceback (most recent call last)",
      "Input \u001b[0;32mIn [1]\u001b[0m, in \u001b[0;36m<cell line: 1>\u001b[0;34m()\u001b[0m\n\u001b[0;32m----> 1\u001b[0m \u001b[38;5;28mprint\u001b[39m(\u001b[43mn55\u001b[49m, t55)\n",
      "\u001b[0;31mNameError\u001b[0m: name 'n55' is not defined"
     ]
    }
   ],
   "source": [
    "print(n55, t55)"
   ]
  },
  {
   "cell_type": "code",
   "execution_count": null,
   "metadata": {},
   "outputs": [
    {
     "name": "stdout",
     "output_type": "stream",
     "text": [
      "Problem: 0, solved: 0, time:600.0253884792328\n"
     ]
    }
   ],
   "source": [
    "time_budget = 10*60 # in seconds\n",
    "number_pbs = 15\n",
    "size = 16\n",
    "rm_rate = 2/3\n",
    "n_playouts = 10\n",
    "\n",
    "# test flat\n",
    "n61, t61 = mc_test(time_budget, number_pbs, size, rm_rate, flat_max_inference, playout_max_inference, play_max_inference, random_cells, n_playouts)\n",
    "n62, t62 = mc_test(time_budget, number_pbs, size, rm_rate, flat, playout, play, random_cells, n_playouts)\n",
    "n63, t63 = mc_test(time_budget, number_pbs, size, rm_rate, flat_max_inference, playout_max_inference, play_max_inference, random_values, n_playouts)\n",
    "n64, t64 = mc_test(time_budget, number_pbs, size, rm_rate, flat, playout, play, random_values, n_playouts)"
   ]
  },
  {
   "cell_type": "code",
   "execution_count": null,
   "metadata": {},
   "outputs": [],
   "source": [
    "time_budget = 10*60 # in seconds\n",
    "number_pbs = 15\n",
    "size = 16\n",
    "rm_rate = 2/3\n",
    "n_playouts = 10\n",
    "\n",
    "# test flat\n",
    "n65, t65 = mc_test(time_budget, number_pbs, size, rm_rate, flat_max_inference, playout, play_dict, random_priority, n_playouts)"
   ]
  },
  {
   "cell_type": "code",
   "execution_count": 22,
   "metadata": {},
   "outputs": [
    {
     "name": "stdout",
     "output_type": "stream",
     "text": [
      "1 8513.095176935196\n",
      "0 9001.089860916138\n",
      "0 9001.609474420547\n",
      "0 9001.375310897827\n"
     ]
    }
   ],
   "source": [
    "print(n61,t61)\n",
    "print(n62,t62)\n",
    "print(n63,t63)\n",
    "print(n64,t64)"
   ]
  },
  {
   "cell_type": "code",
   "execution_count": 2,
   "metadata": {},
   "outputs": [
    {
     "ename": "NameError",
     "evalue": "name 'n65' is not defined",
     "output_type": "error",
     "traceback": [
      "\u001b[0;31m---------------------------------------------------------------------------\u001b[0m",
      "\u001b[0;31mNameError\u001b[0m                                 Traceback (most recent call last)",
      "Input \u001b[0;32mIn [2]\u001b[0m, in \u001b[0;36m<cell line: 1>\u001b[0;34m()\u001b[0m\n\u001b[0;32m----> 1\u001b[0m \u001b[38;5;28mprint\u001b[39m(\u001b[43mn65\u001b[49m, t65)\n",
      "\u001b[0;31mNameError\u001b[0m: name 'n65' is not defined"
     ]
    }
   ],
   "source": [
    "print(n65, t65)"
   ]
  },
  {
   "cell_type": "code",
   "execution_count": null,
   "metadata": {},
   "outputs": [],
   "source": [
    "time_budget = 10*60 # in seconds\n",
    "number_pbs = 15\n",
    "size = 16\n",
    "rm_rate = 2/3\n",
    "n_playouts = 15\n",
    "\n",
    "# test flat\n",
    "n71, t71 = mc_test(time_budget, number_pbs, size, rm_rate, flat_max_inference, playout_max_inference, play_max_inference, random_cells, n_playouts)\n",
    "n72, t72 = mc_test(time_budget, number_pbs, size, rm_rate, flat, playout, play, random_cells, n_playouts)\n",
    "n73, t73 = mc_test(time_budget, number_pbs, size, rm_rate, flat_max_inference, playout_max_inference, play_max_inference, random_values, n_playouts)\n",
    "n74, t74 = mc_test(time_budget, number_pbs, size, rm_rate, flat, playout, play, random_values, n_playouts)"
   ]
  },
  {
   "cell_type": "code",
   "execution_count": null,
   "metadata": {},
   "outputs": [],
   "source": [
    "time_budget = 10*60 # in seconds\n",
    "number_pbs = 15\n",
    "size = 16\n",
    "rm_rate = 2/3\n",
    "n_playouts = 15\n",
    "\n",
    "# test flat\n",
    "n75, t75 = mc_test(time_budget, number_pbs, size, rm_rate, flat_max_inference, playout, play_dict, random_priority, n_playouts)"
   ]
  },
  {
   "cell_type": "code",
   "execution_count": 23,
   "metadata": {},
   "outputs": [
    {
     "name": "stdout",
     "output_type": "stream",
     "text": [
      "0 9001.72456908226\n",
      "0 9001.510561227798\n",
      "0 9001.441141605377\n",
      "0 9001.265055418015\n"
     ]
    }
   ],
   "source": [
    "print(n71,t71)\n",
    "print(n72,t72)\n",
    "print(n73,t73)\n",
    "print(n74,t74)"
   ]
  },
  {
   "cell_type": "code",
   "execution_count": 3,
   "metadata": {},
   "outputs": [
    {
     "ename": "NameError",
     "evalue": "name 'n75' is not defined",
     "output_type": "error",
     "traceback": [
      "\u001b[0;31m---------------------------------------------------------------------------\u001b[0m",
      "\u001b[0;31mNameError\u001b[0m                                 Traceback (most recent call last)",
      "Input \u001b[0;32mIn [3]\u001b[0m, in \u001b[0;36m<cell line: 1>\u001b[0;34m()\u001b[0m\n\u001b[0;32m----> 1\u001b[0m \u001b[38;5;28mprint\u001b[39m(\u001b[43mn75\u001b[49m, t75)\n",
      "\u001b[0;31mNameError\u001b[0m: name 'n75' is not defined"
     ]
    }
   ],
   "source": [
    "print(n75, t75)"
   ]
  },
  {
   "cell_type": "code",
   "execution_count": null,
   "metadata": {},
   "outputs": [],
   "source": [
    "time_budget = 10*60 # in seconds\n",
    "number_pbs = 15\n",
    "size = 16\n",
    "rm_rate = 2/3\n",
    "n_playouts = 20\n",
    "\n",
    "# test flat\n",
    "n81, t81 = mc_test(time_budget, number_pbs, size, rm_rate, flat_max_inference, playout_max_inference, play_max_inference, random_cells, n_playouts)\n",
    "n82, t82 = mc_test(time_budget, number_pbs, size, rm_rate, flat, playout, play, random_cells, n_playouts)\n",
    "n83, t83 = mc_test(time_budget, number_pbs, size, rm_rate, flat_max_inference, playout_max_inference, play_max_inference, random_values, n_playouts)\n",
    "n84, t84 = mc_test(time_budget, number_pbs, size, rm_rate, flat, playout, play, random_values, n_playouts)"
   ]
  },
  {
   "cell_type": "code",
   "execution_count": null,
   "metadata": {},
   "outputs": [],
   "source": [
    "time_budget = 10*60 # in seconds\n",
    "number_pbs = 15\n",
    "size = 16\n",
    "rm_rate = 2/3\n",
    "n_playouts = 20\n",
    "\n",
    "# test flat\n",
    "n85, t85 = mc_test(time_budget, number_pbs, size, rm_rate, flat_max_inference, playout, play_dict, random_priority, n_playouts)"
   ]
  },
  {
   "cell_type": "code",
   "execution_count": null,
   "metadata": {},
   "outputs": [],
   "source": [
    "print(n81,t81)\n",
    "print(n82,t82)\n",
    "print(n83,t83)\n",
    "print(n84,t84)"
   ]
  },
  {
   "cell_type": "code",
   "execution_count": null,
   "metadata": {},
   "outputs": [],
   "source": [
    "print(n85, t85)"
   ]
  }
 ],
 "metadata": {
  "colab": {
   "name": "experiments.ipynb",
   "provenance": []
  },
  "kernelspec": {
   "display_name": "Sklearn 1.0.2",
   "language": "python",
   "name": "python3"
  },
  "language_info": {
   "codemirror_mode": {
    "name": "ipython",
    "version": 3
   },
   "file_extension": ".py",
   "mimetype": "text/x-python",
   "name": "python",
   "nbconvert_exporter": "python",
   "pygments_lexer": "ipython3",
   "version": "3.9.5"
  }
 },
 "nbformat": 4,
 "nbformat_minor": 4
}
