{
 "cells": [
  {
   "cell_type": "code",
   "execution_count": 1,
   "metadata": {
    "colab": {
     "base_uri": "https://localhost:8080/",
     "height": 342
    },
    "id": "U6VFqkMP1fn_",
    "outputId": "c591b968-9b70-49df-c776-1feedda74b90"
   },
   "outputs": [],
   "source": [
    "import numpy as np\n",
    "import random\n",
    "from math import sqrt\n",
    "import math\n",
    "import copy\n",
    "import collections\n",
    "import time\n",
    "import multiprocessing as mp\n",
    "\n",
    "from mcts_sudoku import *"
   ]
  },
  {
   "cell_type": "code",
   "execution_count": null,
   "metadata": {},
   "outputs": [],
   "source": [
    "globals()"
   ]
  },
  {
   "cell_type": "markdown",
   "metadata": {},
   "source": [
    "## rm_rate = 0.5"
   ]
  },
  {
   "cell_type": "code",
   "execution_count": null,
   "metadata": {
    "id": "iXdKu7Bg2AMu"
   },
   "outputs": [],
   "source": [
    "time_budget = 3*60 # in seconds\n",
    "number_pbs = 50\n",
    "size = 16\n",
    "rm_rate = 0.5\n",
    "level = 1\n",
    "\n",
    "# test nested\n",
    "n11, t11 = test_nested(time_budget, number_pbs, size, rm_rate, level, playout, play_dict, random_priority)\n",
    "n12, t12 = test_nested(time_budget, number_pbs, size, rm_rate, level, playout_max_inference, play_max_inference, random_cells)\n",
    "n13, t13 = test_nested(time_budget, number_pbs, size, rm_rate, level, playout, play, random_cells)\n",
    "n14, t14 = test_nested(time_budget, number_pbs, size, rm_rate, level, playout_max_inference, play_max_inference, random_values)\n",
    "n15, t15 = test_nested(time_budget, number_pbs, size, rm_rate, level, playout, play, random_values)"
   ]
  },
  {
   "cell_type": "code",
   "execution_count": 6,
   "metadata": {
    "scrolled": true
   },
   "outputs": [
    {
     "name": "stdout",
     "output_type": "stream",
     "text": [
      "50 12.549376726150513\n",
      "44 1989.0841975212097\n",
      "0 9000.876413822174\n",
      "42 2639.4709231853485\n",
      "0 9001.012198925018\n"
     ]
    }
   ],
   "source": [
    "print(n11,t11)\n",
    "print(n12,t12)\n",
    "print(n13,t13)\n",
    "print(n14,t14)\n",
    "print(n15,t15)"
   ]
  },
  {
   "cell_type": "code",
   "execution_count": null,
   "metadata": {},
   "outputs": [],
   "source": [
    "time_budget = 3*60 # in seconds\n",
    "number_pbs = 50\n",
    "size = 16\n",
    "rm_rate = 0.5\n",
    "level = 2\n",
    "\n",
    "# test nested\n",
    "#n21, t21 = test_nested(time_budget, number_pbs, size, rm_rate, level, playout, play_dict, random_priority)\n",
    "#n22, t22 = test_nested(time_budget, number_pbs, size, rm_rate, level, playout_max_inference, play_max_inference, random_cells)\n",
    "#n23, t23 = test_nested(time_budget, number_pbs, size, rm_rate, level, playout, play, random_cells)\n",
    "#n24, t24 = test_nested(time_budget, number_pbs, size, rm_rate, level, playout_max_inference, play_max_inference, random_values)\n",
    "n25, t25 = test_nested(time_budget, number_pbs, size, rm_rate, level, playout, play, random_values)"
   ]
  },
  {
   "cell_type": "code",
   "execution_count": 10,
   "metadata": {},
   "outputs": [
    {
     "name": "stdout",
     "output_type": "stream",
     "text": [
      "49 1321.0767014026642\n",
      "45 4736.5383405685425\n",
      "0 9005.272489786148\n",
      "46 4418.875218868256\n",
      "0 9005.364739894867\n"
     ]
    }
   ],
   "source": [
    "print(n21,t21)\n",
    "print(n22,t22)\n",
    "print(n23,t23)\n",
    "print(n24,t24)\n",
    "print(n25,t25)"
   ]
  },
  {
   "cell_type": "code",
   "execution_count": null,
   "metadata": {},
   "outputs": [],
   "source": [
    "time_budget = 3*60 # in seconds\n",
    "number_pbs = 50\n",
    "size = 16\n",
    "rm_rate = 0.5\n",
    "level = 3\n",
    "\n",
    "# test nested\n",
    "n31, t31 = test_nested(time_budget, number_pbs, size, rm_rate, level, playout, play_dict, random_priority)\n",
    "n32, t32 = test_nested(time_budget, number_pbs, size, rm_rate, level, playout_max_inference, play_max_inference, random_cells)\n",
    "n33, t33 = test_nested(time_budget, number_pbs, size, rm_rate, level, playout, play, random_cells)\n",
    "n34, t34 = test_nested(time_budget, number_pbs, size, rm_rate, level, playout_max_inference, play_max_inference, random_values)\n",
    "n35, t35 = test_nested(time_budget, number_pbs, size, rm_rate, level, playout, play, random_values)"
   ]
  },
  {
   "cell_type": "code",
   "execution_count": null,
   "metadata": {},
   "outputs": [],
   "source": [
    "print(n31,t31)\n",
    "print(n32,t32)\n",
    "print(n33,t33)\n",
    "print(n34,t34)\n",
    "print(n35,t35)"
   ]
  },
  {
   "cell_type": "markdown",
   "metadata": {},
   "source": [
    "## rm_rate = 2/3"
   ]
  },
  {
   "cell_type": "code",
   "execution_count": null,
   "metadata": {},
   "outputs": [
    {
     "name": "stdout",
     "output_type": "stream",
     "text": [
      "Problem: 0, solved: 1, time:15.571411371231079\n"
     ]
    }
   ],
   "source": [
    "time_budget = 3*60 # in seconds\n",
    "number_pbs = 50\n",
    "size = 16\n",
    "rm_rate = 2/3\n",
    "level = 1\n",
    "\n",
    "# test nested\n",
    "n41, t41 = test_nested(time_budget, number_pbs, size, rm_rate, level, playout, play_dict, random_priority)\n",
    "n42, t42 = test_nested(time_budget, number_pbs, size, rm_rate, level, playout_max_inference, play_max_inference, random_cells)\n",
    "n43, t43 = test_nested(time_budget, number_pbs, size, rm_rate, level, playout, play, random_cells)\n",
    "n44, t44 = test_nested(time_budget, number_pbs, size, rm_rate, level, playout_max_inference, play_max_inference, random_values)\n",
    "n45, t45 = test_nested(time_budget, number_pbs, size, rm_rate, level, playout, play, random_values)"
   ]
  },
  {
   "cell_type": "code",
   "execution_count": 13,
   "metadata": {},
   "outputs": [
    {
     "name": "stdout",
     "output_type": "stream",
     "text": [
      "40 3165.2617449760437\n",
      "2 8940.495340108871\n",
      "0 9001.47638964653\n",
      "0 9002.240890741348\n",
      "0 9003.677013874054\n"
     ]
    }
   ],
   "source": [
    "print(n41,t41)\n",
    "print(n42,t42)\n",
    "print(n43,t43)\n",
    "print(n44,t44)\n",
    "print(n45,t45)"
   ]
  },
  {
   "cell_type": "code",
   "execution_count": null,
   "metadata": {},
   "outputs": [],
   "source": [
    "time_budget = 3*60 # in seconds\n",
    "number_pbs = 50\n",
    "size = 16\n",
    "rm_rate = 2/3\n",
    "level = 2\n",
    "\n",
    "# test nested\n",
    "#n51, t51 = test_nested(time_budget, number_pbs, size, rm_rate, level, playout, play_dict, random_priority)\n",
    "#n52, t52 = test_nested(time_budget, number_pbs, size, rm_rate, level, playout_max_inference, play_max_inference, random_cells)\n",
    "n53, t53 = test_nested(time_budget, number_pbs, size, rm_rate, level, playout, play, random_cells)\n",
    "n54, t54 = test_nested(time_budget, number_pbs, size, rm_rate, level, playout_max_inference, play_max_inference, random_values)\n",
    "n55, t55 = test_nested(time_budget, number_pbs, size, rm_rate, level, playout, play, random_values)"
   ]
  },
  {
   "cell_type": "code",
   "execution_count": 19,
   "metadata": {},
   "outputs": [
    {
     "name": "stdout",
     "output_type": "stream",
     "text": [
      "41 5255.273887872696\n",
      "4 9004.844891786575\n",
      "0 9004.515649080276\n",
      "0 9005.110225439072\n",
      "0 9136.941850423813\n"
     ]
    }
   ],
   "source": [
    "print(n51,t51)\n",
    "print(n52,t52)\n",
    "print(n53,t53)\n",
    "print(n54,t54)\n",
    "print(n55,t55)"
   ]
  },
  {
   "cell_type": "code",
   "execution_count": null,
   "metadata": {},
   "outputs": [],
   "source": [
    "time_budget = 3*60 # in seconds\n",
    "number_pbs = 50\n",
    "size = 16\n",
    "rm_rate = 2/3\n",
    "level = 3\n",
    "\n",
    "# test nested\n",
    "n61, t61 = test_nested(time_budget, number_pbs, size, rm_rate, level, playout, play_dict, random_priority)\n",
    "n62, t62 = test_nested(time_budget, number_pbs, size, rm_rate, level, playout_max_inference, play_max_inference, random_cells)\n",
    "n63, t63 = test_nested(time_budget, number_pbs, size, rm_rate, level, playout, play, random_cells)\n",
    "n64, t64 = test_nested(time_budget, number_pbs, size, rm_rate, level, playout_max_inference, play_max_inference, random_values)\n",
    "n65, t65 = test_nested(time_budget, number_pbs, size, rm_rate, level, playout, play, random_values)"
   ]
  },
  {
   "cell_type": "code",
   "execution_count": null,
   "metadata": {},
   "outputs": [],
   "source": [
    "print(n61,t61)\n",
    "print(n62,t62)\n",
    "print(n63,t63)\n",
    "print(n64,t64)\n",
    "print(n65,t65)"
   ]
  }
 ],
 "metadata": {
  "colab": {
   "name": "experiments.ipynb",
   "provenance": []
  },
  "kernelspec": {
   "display_name": "Sklearn 1.0.2",
   "language": "python",
   "name": "python3"
  },
  "language_info": {
   "codemirror_mode": {
    "name": "ipython",
    "version": 3
   },
   "file_extension": ".py",
   "mimetype": "text/x-python",
   "name": "python",
   "nbconvert_exporter": "python",
   "pygments_lexer": "ipython3",
   "version": "3.9.5"
  }
 },
 "nbformat": 4,
 "nbformat_minor": 4
}
