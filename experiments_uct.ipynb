{
 "cells": [
  {
   "cell_type": "code",
   "execution_count": 1,
   "metadata": {
    "colab": {
     "base_uri": "https://localhost:8080/",
     "height": 342
    },
    "id": "U6VFqkMP1fn_",
    "outputId": "c591b968-9b70-49df-c776-1feedda74b90"
   },
   "outputs": [],
   "source": [
    "import numpy as np\n",
    "import random\n",
    "from math import sqrt\n",
    "import math\n",
    "import copy\n",
    "import collections\n",
    "import time\n",
    "import multiprocessing as mp\n",
    "\n",
    "from mcts_sudoku import *"
   ]
  },
  {
   "cell_type": "markdown",
   "metadata": {},
   "source": [
    "## rm_rate = 0.5"
   ]
  },
  {
   "cell_type": "code",
   "execution_count": 6,
   "metadata": {
    "id": "iXdKu7Bg2AMu"
   },
   "outputs": [
    {
     "name": "stdout",
     "output_type": "stream",
     "text": [
      "cst=0.2\n",
      "Problem: 0, solved: 0, time:1.0024135112762451\n",
      "Problem: 1, solved: 0, time:1.002187728881836\n",
      "Solved: 0 time: 2.040067434310913 \n",
      "\n",
      "\n",
      "Problem: 0, solved: 0, time:1.0012290477752686\n",
      "Problem: 1, solved: 0, time:1.0016489028930664\n",
      "Solved: 0 time: 2.023426055908203 \n",
      "\n",
      "\n",
      "Problem: 0, solved: 0, time:1.000622034072876\n",
      "Problem: 1, solved: 0, time:1.0021085739135742\n",
      "Solved: 0 time: 2.0238044261932373 \n",
      "\n",
      "\n",
      "Problem: 0, solved: 0, time:1.0008625984191895\n",
      "Problem: 1, solved: 0, time:1.00199556350708\n",
      "Solved: 0 time: 2.0227580070495605 \n",
      "\n",
      "\n",
      "cst=0.4\n",
      "Problem: 0, solved: 0, time:1.0017938613891602\n",
      "Problem: 1, solved: 0, time:1.0019886493682861\n",
      "Solved: 0 time: 2.0221848487854004 \n",
      "\n",
      "\n",
      "Problem: 0, solved: 0, time:1.001749038696289\n",
      "Problem: 1, solved: 0, time:1.0019395351409912\n",
      "Solved: 0 time: 2.023096799850464 \n",
      "\n",
      "\n",
      "Problem: 0, solved: 0, time:1.0017104148864746\n",
      "Problem: 1, solved: 0, time:1.0019862651824951\n",
      "Solved: 0 time: 2.022489070892334 \n",
      "\n",
      "\n",
      "Problem: 0, solved: 0, time:1.001755714416504\n",
      "Problem: 1, solved: 0, time:1.0018744468688965\n",
      "Solved: 0 time: 2.0225887298583984 \n",
      "\n",
      "\n",
      "cst=0.6\n",
      "Problem: 0, solved: 0, time:1.0010955333709717\n",
      "Problem: 1, solved: 0, time:1.0017645359039307\n",
      "Solved: 0 time: 2.022056818008423 \n",
      "\n",
      "\n",
      "Problem: 0, solved: 0, time:1.0019009113311768\n",
      "Problem: 1, solved: 0, time:1.001887559890747\n",
      "Solved: 0 time: 2.0225625038146973 \n",
      "\n",
      "\n",
      "Problem: 0, solved: 0, time:1.0017507076263428\n",
      "Problem: 1, solved: 0, time:1.001920223236084\n",
      "Solved: 0 time: 2.0221810340881348 \n",
      "\n",
      "\n",
      "Problem: 0, solved: 0, time:1.0019688606262207\n",
      "Problem: 1, solved: 0, time:1.0019910335540771\n",
      "Solved: 0 time: 2.0228893756866455 \n",
      "\n",
      "\n"
     ]
    }
   ],
   "source": [
    "time_budget = 10*60 # in seconds\n",
    "number_pbs = 20\n",
    "size = 16\n",
    "rm_rate = 0.5\n",
    "n_playouts = 2000\n",
    "L_cst = [0.2, 0.4, 0.6]\n",
    "L1 = []\n",
    "L2 = []\n",
    "L3 = []\n",
    "L4 = []\n",
    "\n",
    "# test UCT\n",
    "for cst in L_cst:\n",
    "    print(f\"cst={cst}\")\n",
    "    L1.append(mc_test(time_budget, number_pbs, size, rm_rate, BestMoveUCT, playout_max_inference, play_max_inference, random_cells, n_playouts, cst))\n",
    "    L2.append(mc_test(time_budget, number_pbs, size, rm_rate, BestMoveUCT, playout, play, random_cells, n_playouts, cst))\n",
    "    L3.append(mc_test(time_budget, number_pbs, size, rm_rate, BestMoveUCT, playout_max_inference, play_max_inference, random_values, n_playouts, cst))\n",
    "    L4.append(mc_test(time_budget, number_pbs, size, rm_rate, BestMoveUCT, playout, play, random_values, n_playouts, cst))"
   ]
  },
  {
   "cell_type": "code",
   "execution_count": 7,
   "metadata": {},
   "outputs": [
    {
     "name": "stdout",
     "output_type": "stream",
     "text": [
      "cst=0.2\n",
      "(0, 2.040182590484619)\n",
      "(0, 2.0235416889190674)\n",
      "(0, 2.0238866806030273)\n",
      "(0, 2.0228474140167236)\n",
      "\n",
      "\n",
      "cst=0.4\n",
      "(0, 2.0233378410339355)\n",
      "(0, 2.0237886905670166)\n",
      "(0, 2.0234506130218506)\n",
      "(0, 2.023350238800049)\n",
      "\n",
      "\n",
      "cst=0.6\n",
      "(0, 2.022144317626953)\n",
      "(0, 2.0226643085479736)\n",
      "(0, 2.0231430530548096)\n",
      "(0, 2.023972272872925)\n",
      "\n",
      "\n"
     ]
    }
   ],
   "source": [
    "for i in range(len(L_cst)):\n",
    "    print(f\"cst={L_cst[i]}\")\n",
    "    print(L1[i])\n",
    "    print(L2[i])\n",
    "    print(L3[i])\n",
    "    print(L4[i])\n",
    "    print(\"\\n\")"
   ]
  },
  {
   "cell_type": "code",
   "execution_count": null,
   "metadata": {},
   "outputs": [],
   "source": [
    "time_budget = 10*60 # in seconds\n",
    "number_pbs = 20\n",
    "size = 16\n",
    "rm_rate = 0.5\n",
    "n_playouts = 4000\n",
    "L_cst = [0.2, 0.4, 0.6]\n",
    "L1 = []\n",
    "L2 = []\n",
    "L3 = []\n",
    "L4 = []\n",
    "\n",
    "# test UCT\n",
    "for cst in L_cst:\n",
    "    print(f\"cst={cst}\")\n",
    "    L1.append(mc_test(time_budget, number_pbs, size, rm_rate, BestMoveUCT, playout_max_inference, play_max_inference, random_cells, n_playouts, cst))\n",
    "    L2.append(mc_test(time_budget, number_pbs, size, rm_rate, BestMoveUCT, playout, play, random_cells, n_playouts, cst))\n",
    "    L3.append(mc_test(time_budget, number_pbs, size, rm_rate, BestMoveUCT, playout_max_inference, play_max_inference, random_values, n_playouts, cst))\n",
    "    L4.append(mc_test(time_budget, number_pbs, size, rm_rate, BestMoveUCT, playout, play, random_values, n_playouts, cst))"
   ]
  },
  {
   "cell_type": "code",
   "execution_count": null,
   "metadata": {},
   "outputs": [],
   "source": [
    "for i in range(len(L_cst)):\n",
    "    print(f\"cst={L_cst[i]}\")\n",
    "    print(L1[i])\n",
    "    print(L2[i])\n",
    "    print(L3[i])\n",
    "    print(L4[i])\n",
    "    print(\"\\n\")"
   ]
  },
  {
   "cell_type": "code",
   "execution_count": null,
   "metadata": {},
   "outputs": [],
   "source": [
    "time_budget = 10*60 # in seconds\n",
    "number_pbs = 20\n",
    "size = 16\n",
    "rm_rate = 0.5\n",
    "n_playouts = 6000\n",
    "L_cst = [0.2, 0.4, 0.6]\n",
    "L1 = []\n",
    "L2 = []\n",
    "L3 = []\n",
    "L4 = []\n",
    "\n",
    "# test UCT\n",
    "for cst in L_cst:\n",
    "    print(f\"cst={cst}\")\n",
    "    L1.append(mc_test(time_budget, number_pbs, size, rm_rate, BestMoveUCT, playout_max_inference, play_max_inference, random_cells, n_playouts, cst))\n",
    "    L2.append(mc_test(time_budget, number_pbs, size, rm_rate, BestMoveUCT, playout, play, random_cells, n_playouts, cst))\n",
    "    L3.append(mc_test(time_budget, number_pbs, size, rm_rate, BestMoveUCT, playout_max_inference, play_max_inference, random_values, n_playouts, cst))\n",
    "    L4.append(mc_test(time_budget, number_pbs, size, rm_rate, BestMoveUCT, playout, play, random_values, n_playouts, cst))"
   ]
  },
  {
   "cell_type": "code",
   "execution_count": null,
   "metadata": {},
   "outputs": [],
   "source": [
    "for i in range(len(L_cst)):\n",
    "    print(f\"cst={L_cst[i]}\")\n",
    "    print(L1[i])\n",
    "    print(L2[i])\n",
    "    print(L3[i])\n",
    "    print(L4[i])\n",
    "    print(\"\\n\")"
   ]
  },
  {
   "cell_type": "code",
   "execution_count": null,
   "metadata": {},
   "outputs": [],
   "source": [
    "time_budget = 10*60 # in seconds\n",
    "number_pbs = 20\n",
    "size = 16\n",
    "rm_rate = 0.5\n",
    "n_playouts = 8000\n",
    "L_cst = [0.2, 0.4, 0.6]\n",
    "L1 = []\n",
    "L2 = []\n",
    "L3 = []\n",
    "L4 = []\n",
    "\n",
    "# test UCT\n",
    "for cst in L_cst:\n",
    "    print(f\"cst={cst}\")\n",
    "    L1.append(mc_test(time_budget, number_pbs, size, rm_rate, BestMoveUCT, playout_max_inference, play_max_inference, random_cells, n_playouts, cst))\n",
    "    L2.append(mc_test(time_budget, number_pbs, size, rm_rate, BestMoveUCT, playout, play, random_cells, n_playouts, cst))\n",
    "    L3.append(mc_test(time_budget, number_pbs, size, rm_rate, BestMoveUCT, playout_max_inference, play_max_inference, random_values, n_playouts, cst))\n",
    "    L4.append(mc_test(time_budget, number_pbs, size, rm_rate, BestMoveUCT, playout, play, random_values, n_playouts, cst))"
   ]
  },
  {
   "cell_type": "code",
   "execution_count": null,
   "metadata": {},
   "outputs": [],
   "source": [
    "for i in range(len(L_cst)):\n",
    "    print(f\"cst={L_cst[i]}\")\n",
    "    print(L1[i])\n",
    "    print(L2[i])\n",
    "    print(L3[i])\n",
    "    print(L4[i])\n",
    "    print(\"\\n\")"
   ]
  },
  {
   "cell_type": "markdown",
   "metadata": {},
   "source": [
    "## rm_rate = 2/3"
   ]
  },
  {
   "cell_type": "code",
   "execution_count": null,
   "metadata": {},
   "outputs": [],
   "source": [
    "time_budget = 10*60 # in seconds\n",
    "number_pbs = 20\n",
    "size = 16\n",
    "rm_rate = 2/3\n",
    "n_playouts = 2000\n",
    "L_cst = [0.2, 0.4, 0.6]\n",
    "L1 = []\n",
    "L2 = []\n",
    "L3 = []\n",
    "L4 = []\n",
    "\n",
    "# test UCT\n",
    "for cst in L_cst:\n",
    "    print(f\"cst={cst}\")\n",
    "    L1.append(mc_test(time_budget, number_pbs, size, rm_rate, BestMoveUCT, playout_max_inference, play_max_inference, random_cells, n_playouts, cst))\n",
    "    L2.append(mc_test(time_budget, number_pbs, size, rm_rate, BestMoveUCT, playout, play, random_cells, n_playouts, cst))\n",
    "    L3.append(mc_test(time_budget, number_pbs, size, rm_rate, BestMoveUCT, playout_max_inference, play_max_inference, random_values, n_playouts, cst))\n",
    "    L4.append(mc_test(time_budget, number_pbs, size, rm_rate, BestMoveUCT, playout, play, random_values, n_playouts, cst))"
   ]
  },
  {
   "cell_type": "code",
   "execution_count": null,
   "metadata": {},
   "outputs": [],
   "source": [
    "for i in range(len(L_cst)):\n",
    "    print(f\"cst={L_cst[i]}\")\n",
    "    print(L1[i])\n",
    "    print(L2[i])\n",
    "    print(L3[i])\n",
    "    print(L4[i])\n",
    "    print(\"\\n\")"
   ]
  },
  {
   "cell_type": "code",
   "execution_count": null,
   "metadata": {},
   "outputs": [],
   "source": [
    "time_budget = 10*60 # in seconds\n",
    "number_pbs = 20\n",
    "size = 16\n",
    "rm_rate = 2/3\n",
    "n_playouts = 4000\n",
    "L_cst = [0.2, 0.4, 0.6]\n",
    "L1 = []\n",
    "L2 = []\n",
    "L3 = []\n",
    "L4 = []\n",
    "\n",
    "# test UCT\n",
    "for cst in L_cst:\n",
    "    print(f\"cst={cst}\")\n",
    "    L1.append(mc_test(time_budget, number_pbs, size, rm_rate, BestMoveUCT, playout_max_inference, play_max_inference, random_cells, n_playouts, cst))\n",
    "    L2.append(mc_test(time_budget, number_pbs, size, rm_rate, BestMoveUCT, playout, play, random_cells, n_playouts, cst))\n",
    "    L3.append(mc_test(time_budget, number_pbs, size, rm_rate, BestMoveUCT, playout_max_inference, play_max_inference, random_values, n_playouts, cst))\n",
    "    L4.append(mc_test(time_budget, number_pbs, size, rm_rate, BestMoveUCT, playout, play, random_values, n_playouts, cst))"
   ]
  },
  {
   "cell_type": "code",
   "execution_count": null,
   "metadata": {},
   "outputs": [],
   "source": [
    "for i in range(len(L_cst)):\n",
    "    print(f\"cst={L_cst[i]}\")\n",
    "    print(L1[i])\n",
    "    print(L2[i])\n",
    "    print(L3[i])\n",
    "    print(L4[i])\n",
    "    print(\"\\n\")"
   ]
  },
  {
   "cell_type": "code",
   "execution_count": null,
   "metadata": {},
   "outputs": [],
   "source": [
    "time_budget = 10*60 # in seconds\n",
    "number_pbs = 20\n",
    "size = 16\n",
    "rm_rate = 2/3\n",
    "n_playouts = 6000\n",
    "L_cst = [0.2, 0.4, 0.6]\n",
    "L1 = []\n",
    "L2 = []\n",
    "L3 = []\n",
    "L4 = []\n",
    "\n",
    "# test UCT\n",
    "for cst in L_cst:\n",
    "    print(f\"cst={cst}\")\n",
    "    L1.append(mc_test(time_budget, number_pbs, size, rm_rate, BestMoveUCT, playout_max_inference, play_max_inference, random_cells, n_playouts, cst))\n",
    "    L2.append(mc_test(time_budget, number_pbs, size, rm_rate, BestMoveUCT, playout, play, random_cells, n_playouts, cst))\n",
    "    L3.append(mc_test(time_budget, number_pbs, size, rm_rate, BestMoveUCT, playout_max_inference, play_max_inference, random_values, n_playouts, cst))\n",
    "    L4.append(mc_test(time_budget, number_pbs, size, rm_rate, BestMoveUCT, playout, play, random_values, n_playouts, cst))"
   ]
  },
  {
   "cell_type": "code",
   "execution_count": null,
   "metadata": {},
   "outputs": [],
   "source": [
    "for i in range(len(L_cst)):\n",
    "    print(f\"cst={L_cst[i]}\")\n",
    "    print(L1[i])\n",
    "    print(L2[i])\n",
    "    print(L3[i])\n",
    "    print(L4[i])\n",
    "    print(\"\\n\")"
   ]
  },
  {
   "cell_type": "code",
   "execution_count": null,
   "metadata": {},
   "outputs": [],
   "source": [
    "time_budget = 10*60 # in seconds\n",
    "number_pbs = 20\n",
    "size = 16\n",
    "rm_rate = 2/3\n",
    "n_playouts = 8000\n",
    "L_cst = [0.2, 0.4, 0.6]\n",
    "L1 = []\n",
    "L2 = []\n",
    "L3 = []\n",
    "L4 = []\n",
    "\n",
    "# test UCT\n",
    "for cst in L_cst:\n",
    "    print(f\"cst={cst}\")\n",
    "    L1.append(mc_test(time_budget, number_pbs, size, rm_rate, BestMoveUCT, playout_max_inference, play_max_inference, random_cells, n_playouts, cst))\n",
    "    L2.append(mc_test(time_budget, number_pbs, size, rm_rate, BestMoveUCT, playout, play, random_cells, n_playouts, cst))\n",
    "    L3.append(mc_test(time_budget, number_pbs, size, rm_rate, BestMoveUCT, playout_max_inference, play_max_inference, random_values, n_playouts, cst))\n",
    "    L4.append(mc_test(time_budget, number_pbs, size, rm_rate, BestMoveUCT, playout, play, random_values, n_playouts, cst))"
   ]
  },
  {
   "cell_type": "code",
   "execution_count": null,
   "metadata": {},
   "outputs": [],
   "source": [
    "for i in range(len(L_cst)):\n",
    "    print(f\"cst={L_cst[i]}\")\n",
    "    print(L1[i])\n",
    "    print(L2[i])\n",
    "    print(L3[i])\n",
    "    print(L4[i])\n",
    "    print(\"\\n\")"
   ]
  }
 ],
 "metadata": {
  "colab": {
   "name": "experiments.ipynb",
   "provenance": []
  },
  "kernelspec": {
   "display_name": "Python 3 (ipykernel)",
   "language": "python",
   "name": "python3"
  },
  "language_info": {
   "codemirror_mode": {
    "name": "ipython",
    "version": 3
   },
   "file_extension": ".py",
   "mimetype": "text/x-python",
   "name": "python",
   "nbconvert_exporter": "python",
   "pygments_lexer": "ipython3",
   "version": "3.10.4"
  }
 },
 "nbformat": 4,
 "nbformat_minor": 1
}
